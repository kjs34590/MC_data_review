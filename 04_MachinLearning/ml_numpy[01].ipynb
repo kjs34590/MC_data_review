{
 "cells": [
  {
   "cell_type": "markdown",
   "metadata": {},
   "source": [
    "## Numpy 학습\n",
    "### 학습목표\n",
    "\n",
    "- 배열과 리스트의 차이점\n",
    "- 배열생성 및 다루는 기법\n",
    "- 기술통계함수\n",
    "- 결과에 대한 분석하는 방법"
   ]
  },
  {
   "cell_type": "markdown",
   "metadata": {},
   "source": [
    "#### 배열(Array)\n",
    "\n",
    "- 모든 원소가 같은 자료형이야 한다\n",
    "- 원소의 갯수를 바꿀 수 없다(resizing X)\n",
    "- 배열의 차원, 크기, 타입(ndim , shape , dtype) "
   ]
  },
  {
   "cell_type": "code",
   "execution_count": 4,
   "metadata": {},
   "outputs": [
    {
     "data": {
      "text/plain": [
       "'1.20.1'"
      ]
     },
     "execution_count": 4,
     "metadata": {},
     "output_type": "execute_result"
    }
   ],
   "source": [
    "import numpy as np\n",
    "np.__version__"
   ]
  },
  {
   "cell_type": "code",
   "execution_count": 6,
   "metadata": {},
   "outputs": [],
   "source": [
    "# 배열 정보를 확인하기 위한 함수 정의\n",
    "def aryInfo(ary) :\n",
    "    print('type       : {}'.format( type(ary) ))\n",
    "    print('shape      : {}'.format( ary.shape ))\n",
    "    print('dimension  : {}'.format( ary.ndim ))\n",
    "    print('dtype      : {}'.format( ary.dtype ))\n",
    "    print('Array Data : \\n' , ary) "
   ]
  },
  {
   "cell_type": "markdown",
   "metadata": {},
   "source": [
    "#### 1 차원 배열 생성\n",
    "\n",
    "- array()"
   ]
  },
  {
   "cell_type": "code",
   "execution_count": 7,
   "metadata": {},
   "outputs": [
    {
     "name": "stdout",
     "output_type": "stream",
     "text": [
      "type       : <class 'numpy.ndarray'>\n",
      "shape      : (10,)\n",
      "dimension  : 1\n",
      "dtype      : int32\n",
      "Array Data : \n",
      " [0 1 2 3 4 5 6 7 8 9]\n"
     ]
    }
   ],
   "source": [
    "oneAry = np.array([0,1,2,3,4,5,6,7,8,9])\n",
    "aryInfo(oneAry)"
   ]
  },
  {
   "cell_type": "markdown",
   "metadata": {},
   "source": [
    "- vectorized operation(벡터화 연산)"
   ]
  },
  {
   "cell_type": "code",
   "execution_count": 8,
   "metadata": {},
   "outputs": [
    {
     "data": {
      "text/plain": [
       "[0, 1, 2, 3, 4, 5, 6, 7, 8, 9, 0, 1, 2, 3, 4, 5, 6, 7, 8, 9]"
      ]
     },
     "execution_count": 8,
     "metadata": {},
     "output_type": "execute_result"
    }
   ],
   "source": [
    "data = [0,1,2,3,4,5,6,7,8,9]\n",
    "data * 2"
   ]
  },
  {
   "cell_type": "code",
   "execution_count": 11,
   "metadata": {},
   "outputs": [
    {
     "name": "stdout",
     "output_type": "stream",
     "text": [
      "[0, 2, 4, 6, 8, 10, 12, 14, 16, 18]\n",
      "[0, 2, 4, 6, 8, 10, 12, 14, 16, 18]\n",
      "[ 0  2  4  6  8 10 12 14 16 18]\n"
     ]
    }
   ],
   "source": [
    "result = []\n",
    "for d in data :\n",
    "    result.append(d * 2)\n",
    "print(result)\n",
    "\n",
    "result2 = [d * 2 for d in data]\n",
    "print(result2)\n",
    "\n",
    "result3 = oneAry * 2 \n",
    "print(result3)"
   ]
  },
  {
   "cell_type": "markdown",
   "metadata": {},
   "source": [
    "- 벡터화 연산은 비교, 산술, 논리 연산을 포함하는 모든 수학연산에 적용 됨..."
   ]
  },
  {
   "cell_type": "code",
   "execution_count": 21,
   "metadata": {},
   "outputs": [
    {
     "name": "stdout",
     "output_type": "stream",
     "text": [
      "<class 'list'> <class 'list'>\n",
      "<class 'numpy.ndarray'> <class 'numpy.ndarray'>\n",
      "산술연산 - \n",
      "[11 22 33 44 55]\n",
      "산술연산 - \n",
      "[12 24 36 48 60]\n",
      "비교연산 - boolean masking\n",
      "[False  True False False False]\n",
      "[False  True  True  True  True]\n",
      "논리연산 - \n",
      "[False  True False False False]\n",
      "[False  True  True  True  True]\n"
     ]
    }
   ],
   "source": [
    "data01 = [1, 2, 3, 4, 5]\n",
    "data02 = [10, 20, 30, 40, 50]\n",
    "print( type(data01) , type(data02))\n",
    "\n",
    "xAry = np.array(data01)\n",
    "yAry = np.array(data02)\n",
    "print( type(xAry) , type(yAry))\n",
    "\n",
    "print('산술연산 - ')\n",
    "print( xAry + yAry)\n",
    "\n",
    "print('산술연산 - ')\n",
    "print( 2 * xAry + yAry)\n",
    "\n",
    "print('비교연산 - boolean masking')\n",
    "print( xAry == 2)\n",
    "print( yAry > 10)\n",
    "\n",
    "print('논리연산 - ')\n",
    "print( (xAry == 2) & (yAry > 10) )\n",
    "print( (xAry == 2) | (yAry > 10) )"
   ]
  },
  {
   "cell_type": "markdown",
   "metadata": {},
   "source": [
    "#### 2차원 배열\n",
    "\n",
    "- N - dimensional Array\n",
    "- 행렬(Matrix)\n",
    "- list of list -> 2차원\n",
    "- list of list of list -> 3차원"
   ]
  },
  {
   "cell_type": "code",
   "execution_count": 31,
   "metadata": {},
   "outputs": [
    {
     "name": "stdout",
     "output_type": "stream",
     "text": [
      "array info - \n",
      "type       : <class 'numpy.ndarray'>\n",
      "shape      : (2, 3)\n",
      "dimension  : 2\n",
      "dtype      : float64\n",
      "Array Data : \n",
      " [[1. 2. 3.]\n",
      " [4. 5. 6.]]\n",
      "\n",
      "len() - 행의 갯수\n",
      "2\n",
      "3\n",
      "3\n"
     ]
    }
   ],
   "source": [
    "# 2개의 행과 3개의 열을 갖는 배열 만든다면?\n",
    "twoAry = np.array([[1,2,3],[4,5,6]] , dtype = np.float64)\n",
    "print('array info - ')\n",
    "aryInfo(twoAry)\n",
    "\n",
    "print()\n",
    "print('len() - 행의 갯수')\n",
    "print(len(twoAry))\n",
    "print(len(twoAry[0]))\n",
    "print(len(twoAry[1]))"
   ]
  },
  {
   "cell_type": "code",
   "execution_count": 37,
   "metadata": {},
   "outputs": [
    {
     "name": "stdout",
     "output_type": "stream",
     "text": [
      "array info - \n",
      "type       : <class 'numpy.ndarray'>\n",
      "shape      : (2, 3, 4)\n",
      "dimension  : 3\n",
      "dtype      : int32\n",
      "Array Data : \n",
      " [[[ 1  2  3  4]\n",
      "  [ 5  6  7  8]\n",
      "  [ 9 10 11 12]]\n",
      "\n",
      " [[13 14 15 16]\n",
      "  [17 18 19 20]\n",
      "  [21 22 23 24]]]\n",
      "\n",
      "len() - depth\n",
      "2\n",
      "3\n",
      "3\n",
      "row col 4\n"
     ]
    }
   ],
   "source": [
    "# 3차원 - 2 * 3 * 4\n",
    "threeAry = np.array([ [ [1,2,3,4] ,[5,6,7,8], [9,10,11,12] ] , \n",
    "                      [ [13,14,15,16], [17,18,19,20], [21,22,23,24] ]\n",
    "                    ])\n",
    "print('array info - ')\n",
    "aryInfo(threeAry)\n",
    "\n",
    "print()\n",
    "print('len() - depth')\n",
    "print(len(threeAry))\n",
    "print(len(threeAry[0]))\n",
    "print(len(threeAry[1]))\n",
    "print('row col' , len(threeAry[0][0]))"
   ]
  },
  {
   "cell_type": "markdown",
   "metadata": {},
   "source": [
    "- 요소의 타입을 변경할 때 사용하는 함수 : astype()"
   ]
  },
  {
   "cell_type": "code",
   "execution_count": 38,
   "metadata": {},
   "outputs": [
    {
     "name": "stdout",
     "output_type": "stream",
     "text": [
      "type       : <class 'numpy.ndarray'>\n",
      "shape      : (2, 3, 4)\n",
      "dimension  : 3\n",
      "dtype      : float64\n",
      "Array Data : \n",
      " [[[ 1.  2.  3.  4.]\n",
      "  [ 5.  6.  7.  8.]\n",
      "  [ 9. 10. 11. 12.]]\n",
      "\n",
      " [[13. 14. 15. 16.]\n",
      "  [17. 18. 19. 20.]\n",
      "  [21. 22. 23. 24.]]]\n"
     ]
    }
   ],
   "source": [
    "typeChange = threeAry.astype(np.float64)\n",
    "aryInfo(typeChange)"
   ]
  },
  {
   "cell_type": "markdown",
   "metadata": {},
   "source": [
    "#### 배열의 인덱싱(Indexing) , 배열의 슬라이싱(Slicing)"
   ]
  },
  {
   "cell_type": "code",
   "execution_count": 48,
   "metadata": {},
   "outputs": [
    {
     "name": "stdout",
     "output_type": "stream",
     "text": [
      "indexing - \n",
      "2\n",
      "9\n",
      "\n",
      "ary info - \n",
      "type       : <class 'numpy.ndarray'>\n",
      "shape      : (2, 3)\n",
      "dimension  : 2\n",
      "dtype      : float64\n",
      "Array Data : \n",
      " [[1. 2. 3.]\n",
      " [4. 5. 6.]]\n",
      "첫번째 행의 첫번째 열 - \n",
      "1.0\n",
      "두번째 행의 첫번째 열 - \n",
      "5.0\n",
      "마지막 행의 마지막 열 - \n",
      "6.0\n",
      "첫번째행의 전체 - \n",
      "[1. 2. 3.]\n",
      "두번째 열의 전체 - \n",
      "[2. 5.]\n",
      "두번째 행의 두번째부터 끝까지 - \n",
      "[5. 6.]\n"
     ]
    }
   ],
   "source": [
    "indexAry = np.array([1,2,3,4,5,6,7,8,9])\n",
    "\n",
    "print('indexing - ')\n",
    "print(indexAry[1])\n",
    "print(indexAry[-1])\n",
    "\n",
    "print()\n",
    "print('ary info - ')\n",
    "aryInfo(twoAry)\n",
    "# 첫번째 행의 첫번째 열\n",
    "print('첫번째 행의 첫번째 열 - ')\n",
    "print(twoAry[0 , 0])\n",
    "\n",
    "# 두번째 행의 두번째 열\n",
    "print('두번째 행의 첫번째 열 - ')\n",
    "print(twoAry[1 , 1])\n",
    "\n",
    "# 마지막 행의 마지막 열\n",
    "print('마지막 행의 마지막 열 - ')\n",
    "print(twoAry[-1 , -1])\n",
    "\n",
    "# 첫번째행의 전체\n",
    "print('첫번째행의 전체 - ')\n",
    "print(twoAry[0 , : ])\n",
    "\n",
    "# 두번째 열의 전체\n",
    "print('두번째 열의 전체 - ')\n",
    "print(twoAry[ : , 1 ])\n",
    "\n",
    "# 두번째 열의 두번째부터 끝까지\n",
    "print('두번째 행의 두번째부터 끝까지 - ')\n",
    "print(twoAry[ 1 , 1: ])"
   ]
  },
  {
   "cell_type": "code",
   "execution_count": 60,
   "metadata": {},
   "outputs": [
    {
     "name": "stdout",
     "output_type": "stream",
     "text": [
      "type       : <class 'numpy.ndarray'>\n",
      "shape      : (3, 5)\n",
      "dimension  : 2\n",
      "dtype      : int32\n",
      "Array Data : \n",
      " [[ 0  1  2  3  4]\n",
      " [ 5  6  7  8  9]\n",
      " [10 11 12 13 14]]\n",
      "\n",
      "이 행렬에서 값 7 을 인덱싱한다. -  7\n",
      "이 행렬에서 값 14 을 인덱싱한다. -  14\n",
      "이 행렬에서 배열 [6, 7] 을 슬라이싱한다. -  [6 7] <class 'numpy.ndarray'>\n",
      "이 행렬에서 배열 [7, 12] 을 슬라이싱한다. -  [ 7 12]\n",
      "이 행렬에서 배열 [[3, 4], [8, 9]] 을 슬라이싱한다. -  [[3 4]\n",
      " [8 9]] <class 'numpy.ndarray'> 2\n"
     ]
    }
   ],
   "source": [
    "matrixAry = np.array([[0, 1, 2, 3, 4],\n",
    "                      [5, 6, 7, 8, 9],\n",
    "                      [10, 11, 12, 13, 14]\n",
    "                     ]) # 3 * 5\n",
    "\n",
    "aryInfo(matrixAry)\n",
    "print()\n",
    "print('이 행렬에서 값 7 을 인덱싱한다. - ' , matrixAry[ 1 , 2 ])\n",
    "print('이 행렬에서 값 14 을 인덱싱한다. - ', matrixAry[ -1 , -1 ])\n",
    "print('이 행렬에서 배열 [6, 7] 을 슬라이싱한다. - ' , matrixAry[ 1 , 1:3 ] , type(matrixAry[ 1 , 1:3 ]))\n",
    "print('이 행렬에서 배열 [7, 12] 을 슬라이싱한다. - ', matrixAry[ 1:3 , 2 ])\n",
    "print('이 행렬에서 배열 [[3, 4], [8, 9]] 을 슬라이싱한다. - ' ,   matrixAry[ 0:2 , 3:5 ] , \n",
    "                                                                  type(matrixAry[ 0:2 , 3:5 ]) , \n",
    "                                                                  matrixAry[ 0:2 , 3:5 ].ndim)\n"
   ]
  },
  {
   "cell_type": "markdown",
   "metadata": {},
   "source": [
    "#### fancy indexing\n",
    "- boolean indexing\n",
    "- 정수 배열 인덱싱"
   ]
  },
  {
   "cell_type": "code",
   "execution_count": 69,
   "metadata": {},
   "outputs": [
    {
     "name": "stdout",
     "output_type": "stream",
     "text": [
      "[0 2 4 6 8]\n",
      "[ True False  True False  True False  True False  True False]\n",
      "[0 2 4 6 8]\n",
      "[1 3 5 7 9]\n",
      "[1 3 5 7 9]\n",
      "[0 2 4 6 8]\n"
     ]
    }
   ],
   "source": [
    "# 짝수의 원소를 골라내기 위해서 불리언 인덱스를 활용 할 수 있다.\n",
    "ary = np.array([0,1,2,3,4,5,6,7,8,9])\n",
    "# ary[ary%2==0]\n",
    "# print( ary%2 )\n",
    "print( ary[ary%2==0] )\n",
    "print( ary%2==0 )\n",
    "idx = np.array([True, False,True, False,True, False,True, False,True, False])\n",
    "print( ary[idx] )\n",
    "\n",
    "# 홀수의 원소를 골라내기 위해서 정수 배열 인덱스를 활용 할 수 있다.\n",
    "print( ary[ary%2!=0] )\n",
    "evenidx = np.array([1,3,5,7,9])\n",
    "oddidx  = np.array([0,2,4,6,8])\n",
    "print( ary[evenidx] )\n",
    "print( ary[oddidx] )\n",
    "\n"
   ]
  },
  {
   "cell_type": "code",
   "execution_count": 82,
   "metadata": {},
   "outputs": [
    {
     "name": "stdout",
     "output_type": "stream",
     "text": [
      "info - \n",
      "type       : <class 'numpy.ndarray'>\n",
      "shape      : (20,)\n",
      "dimension  : 1\n",
      "dtype      : int32\n",
      "Array Data : \n",
      " [ 1  2  3  4  5  6  7  8  9 10 11 12 13 14 15 16 17 18 19 20]\n",
      "\n",
      "3의 배수를 출력 -  [ 3  6  9 12 15 18]\n",
      "4로 나누면 1이 남는 수를 출력 -  [ 1  5  9 13 17]\n",
      "3의 배수이고 4로 나누면 1이 남는 수를 출력 -  [9]\n"
     ]
    }
   ],
   "source": [
    "x = np.array([1,2,3,4,5,6,7,8,9,10,11,12,13,14,15,16,17,18,19,20]) \n",
    "print('info - ')\n",
    "aryInfo(x)\n",
    "\n",
    "print()\n",
    "print('3의 배수를 출력 - ' , x[x%3==0])\n",
    "print('4로 나누면 1이 남는 수를 출력 - ' , x[x%4 == 1])\n",
    "print('3의 배수이고 4로 나누면 1이 남는 수를 출력 - ' , ( x[(x%3==0) & (x%4 == 1)] ) )\n"
   ]
  },
  {
   "cell_type": "code",
   "execution_count": 101,
   "metadata": {},
   "outputs": [
    {
     "name": "stdout",
     "output_type": "stream",
     "text": [
      "info - \n",
      "type       : <class 'numpy.ndarray'>\n",
      "shape      : (3, 4)\n",
      "dimension  : 2\n",
      "dtype      : int32\n",
      "Array Data : \n",
      " [[ 1  2  3  4]\n",
      " [ 5  6  7  8]\n",
      " [ 9 10 11 12]]\n",
      "\n",
      "[[ 1  4]\n",
      " [ 5  8]\n",
      " [ 9 12]]\n",
      "\n",
      "[[ 1  4]\n",
      " [ 5  8]\n",
      " [ 9 12]]\n",
      "\n",
      "[[5]] - \n",
      "type       : <class 'numpy.ndarray'>\n",
      "shape      : (1, 1)\n",
      "dimension  : 2\n",
      "dtype      : int32\n",
      "Array Data : \n",
      " [[5]]\n",
      "\n",
      "[2 10] - \n",
      "type       : <class 'numpy.ndarray'>\n",
      "shape      : (2,)\n",
      "dimension  : 1\n",
      "dtype      : int32\n",
      "Array Data : \n",
      " [ 2 10]\n",
      "\n",
      "[ [2] [10] ] - \n",
      "type       : <class 'numpy.ndarray'>\n",
      "shape      : (2, 1)\n",
      "dimension  : 2\n",
      "dtype      : int32\n",
      "Array Data : \n",
      " [[ 2]\n",
      " [10]]\n",
      "\n",
      "[ [1 3] [9 11] ] - \n",
      "type       : <class 'numpy.ndarray'>\n",
      "shape      : (2, 2)\n",
      "dimension  : 2\n",
      "dtype      : int32\n",
      "Array Data : \n",
      " [[ 1  3]\n",
      " [ 9 11]]\n"
     ]
    },
    {
     "name": "stderr",
     "output_type": "stream",
     "text": [
      "<ipython-input-101-5780ddbde910>:31: FutureWarning: Using a non-tuple sequence for multidimensional indexing is deprecated; use `arr[tuple(seq)]` instead of `arr[seq]`. In the future this will be interpreted as an array index, `arr[np.array(seq)]`, which will result either in an error or a different result.\n",
      "  aryInfo( ary[[rowIdx]][:, colIdx]  )\n"
     ]
    }
   ],
   "source": [
    "ary = np.arange(1, 13, 1).reshape(3,4)\n",
    "print('info - ')\n",
    "aryInfo(ary)\n",
    "\n",
    "print()\n",
    "digitIdx = [0,3]\n",
    "print( ary[ : , digitIdx ] )\n",
    "\n",
    "print()\n",
    "booleanIdx = [True, False, False, True]\n",
    "print( ary[ : , booleanIdx ] )\n",
    "print()\n",
    "print('[[5]] - ')\n",
    "aryInfo( ary[ 1:2 , 0:1 ] )\n",
    "\n",
    "print()\n",
    "print('[2 10] - ')\n",
    "rowIdx = [0,2]\n",
    "aryInfo( ary[ rowIdx , 1 ] )\n",
    "\n",
    "print()\n",
    "print('[ [2] [10] ] - ')\n",
    "aryInfo( ary[ [0,2], 1:2 ] )\n",
    "\n",
    "print()\n",
    "print('[ [1 3] [9 11] ] - ')\n",
    "\n",
    "rowIdx = np.array([0,2]) \n",
    "colIdx = np.array([0,2]) \n",
    "# print( ary[[rowIdx]])\n",
    "aryInfo( ary[[rowIdx]][:, colIdx]  )\n"
   ]
  },
  {
   "cell_type": "markdown",
   "metadata": {},
   "source": [
    "#### 넘파이 데이터타입\n",
    "\n",
    "- dtype : b -> boolean , i -> integer , u -> 부호없는정수 , f -> float , U -> 문자열"
   ]
  },
  {
   "cell_type": "code",
   "execution_count": 106,
   "metadata": {},
   "outputs": [
    {
     "name": "stdout",
     "output_type": "stream",
     "text": [
      "type       : <class 'numpy.ndarray'>\n",
      "shape      : (4,)\n",
      "dimension  : 1\n",
      "dtype      : <U1\n",
      "Array Data : \n",
      " ['1' '2' '3' '4']\n",
      "14\n"
     ]
    }
   ],
   "source": [
    "ary = np.array([1,2,3,4] , dtype='U')\n",
    "aryInfo(ary)\n",
    "\n",
    "print(ary[0]+ary[3])"
   ]
  },
  {
   "cell_type": "markdown",
   "metadata": {},
   "source": [
    "#### Inf & NaN\n",
    "- infinity\n",
    "- Not a Number"
   ]
  },
  {
   "cell_type": "code",
   "execution_count": 107,
   "metadata": {},
   "outputs": [
    {
     "name": "stderr",
     "output_type": "stream",
     "text": [
      "<ipython-input-107-8f40af621cfa>:1: RuntimeWarning: divide by zero encountered in true_divide\n",
      "  np.array([0, 1, -1, 0]) / np.array([1,0,0,0])\n",
      "<ipython-input-107-8f40af621cfa>:1: RuntimeWarning: invalid value encountered in true_divide\n",
      "  np.array([0, 1, -1, 0]) / np.array([1,0,0,0])\n"
     ]
    },
    {
     "data": {
      "text/plain": [
       "array([  0.,  inf, -inf,  nan])"
      ]
     },
     "execution_count": 107,
     "metadata": {},
     "output_type": "execute_result"
    }
   ],
   "source": [
    "np.array([0, 1, -1, 0]) / np.array([1,0,0,0])"
   ]
  },
  {
   "cell_type": "code",
   "execution_count": 108,
   "metadata": {},
   "outputs": [
    {
     "name": "stderr",
     "output_type": "stream",
     "text": [
      "<ipython-input-108-f6e7c0610b57>:1: RuntimeWarning: divide by zero encountered in log\n",
      "  np.log(0)\n"
     ]
    },
    {
     "data": {
      "text/plain": [
       "-inf"
      ]
     },
     "execution_count": 108,
     "metadata": {},
     "output_type": "execute_result"
    }
   ],
   "source": [
    "np.log(0)"
   ]
  },
  {
   "cell_type": "markdown",
   "metadata": {},
   "source": [
    "#### 배열 생성 함수\n",
    "- array()\n",
    "- zeros() , ones() , zeros_like() , ones_like() , emtpy() , arange() , linspace() , logspace()"
   ]
  },
  {
   "cell_type": "code",
   "execution_count": 116,
   "metadata": {},
   "outputs": [
    {
     "name": "stdout",
     "output_type": "stream",
     "text": [
      "1차원 - \n",
      "type       : <class 'numpy.ndarray'>\n",
      "shape      : (5,)\n",
      "dimension  : 1\n",
      "dtype      : int32\n",
      "Array Data : \n",
      " [0 0 0 0 0]\n",
      "\n",
      "2차원 - \n",
      "type       : <class 'numpy.ndarray'>\n",
      "shape      : (3, 4)\n",
      "dimension  : 2\n",
      "dtype      : int32\n",
      "Array Data : \n",
      " [[0 0 0 0]\n",
      " [0 0 0 0]\n",
      " [0 0 0 0]]\n",
      "\n",
      "2차원 - \n",
      "type       : <class 'numpy.ndarray'>\n",
      "shape      : (3, 3, 4)\n",
      "dimension  : 3\n",
      "dtype      : int32\n",
      "Array Data : \n",
      " [[[0 0 0 0]\n",
      "  [0 0 0 0]\n",
      "  [0 0 0 0]]\n",
      "\n",
      " [[0 0 0 0]\n",
      "  [0 0 0 0]\n",
      "  [0 0 0 0]]\n",
      "\n",
      " [[0 0 0 0]\n",
      "  [0 0 0 0]\n",
      "  [0 0 0 0]]]\n"
     ]
    }
   ],
   "source": [
    "print('1차원 - ')\n",
    "zero = np.zeros(5 , dtype='i')\n",
    "aryInfo(zero)\n",
    "\n",
    "print()\n",
    "print('2차원 - ')\n",
    "zero = np.zeros((3,4) , dtype='i')\n",
    "aryInfo(zero)\n",
    "\n",
    "print()\n",
    "print('2차원 - ')\n",
    "zero = np.zeros((3,3,4) , dtype='i')\n",
    "aryInfo(zero)\n"
   ]
  },
  {
   "cell_type": "code",
   "execution_count": 113,
   "metadata": {},
   "outputs": [
    {
     "name": "stdout",
     "output_type": "stream",
     "text": [
      "type       : <class 'numpy.ndarray'>\n",
      "shape      : (5,)\n",
      "dimension  : 1\n",
      "dtype      : <U1\n",
      "Array Data : \n",
      " ['1' '1' '1' '1' '1']\n"
     ]
    }
   ],
   "source": [
    "one = np.ones(5 , dtype='U')\n",
    "aryInfo(one)"
   ]
  },
  {
   "cell_type": "code",
   "execution_count": 117,
   "metadata": {},
   "outputs": [
    {
     "name": "stdout",
     "output_type": "stream",
     "text": [
      "type       : <class 'numpy.ndarray'>\n",
      "shape      : (3, 3, 4)\n",
      "dimension  : 3\n",
      "dtype      : int32\n",
      "Array Data : \n",
      " [[[0 0 0 0]\n",
      "  [0 0 0 0]\n",
      "  [0 0 0 0]]\n",
      "\n",
      " [[0 0 0 0]\n",
      "  [0 0 0 0]\n",
      "  [0 0 0 0]]\n",
      "\n",
      " [[0 0 0 0]\n",
      "  [0 0 0 0]\n",
      "  [0 0 0 0]]]\n"
     ]
    }
   ],
   "source": [
    "z_like = np.zeros_like(zero)\n",
    "aryInfo(z_like)"
   ]
  },
  {
   "cell_type": "code",
   "execution_count": 118,
   "metadata": {},
   "outputs": [
    {
     "name": "stdout",
     "output_type": "stream",
     "text": [
      "type       : <class 'numpy.ndarray'>\n",
      "shape      : (5,)\n",
      "dimension  : 1\n",
      "dtype      : <U1\n",
      "Array Data : \n",
      " ['1' '1' '1' '1' '1']\n"
     ]
    }
   ],
   "source": [
    "o_like = np.ones_like(one)\n",
    "aryInfo(o_like)"
   ]
  },
  {
   "cell_type": "code",
   "execution_count": 119,
   "metadata": {},
   "outputs": [
    {
     "name": "stdout",
     "output_type": "stream",
     "text": [
      "type       : <class 'numpy.ndarray'>\n",
      "shape      : (4, 3)\n",
      "dimension  : 2\n",
      "dtype      : float64\n",
      "Array Data : \n",
      " [[4.24399158e-314 8.48798317e-314 1.27319747e-313]\n",
      " [1.69759663e-313 2.12199579e-313 2.54639495e-313]\n",
      " [2.97079411e-313 3.39519327e-313 3.81959242e-313]\n",
      " [4.24399158e-313 4.66839074e-313 5.09278990e-313]]\n"
     ]
    }
   ],
   "source": [
    "e = np.empty((4,3))\n",
    "aryInfo(e)"
   ]
  },
  {
   "cell_type": "code",
   "execution_count": 120,
   "metadata": {},
   "outputs": [
    {
     "data": {
      "text/plain": [
       "array([0, 1, 2, 3, 4, 5, 6, 7, 8, 9])"
      ]
     },
     "execution_count": 120,
     "metadata": {},
     "output_type": "execute_result"
    }
   ],
   "source": [
    "np.arange(0, 10) # start ... end-1"
   ]
  },
  {
   "cell_type": "code",
   "execution_count": 123,
   "metadata": {},
   "outputs": [
    {
     "data": {
      "text/plain": [
       "array([[0],\n",
       "       [2],\n",
       "       [4],\n",
       "       [6],\n",
       "       [8]])"
      ]
     },
     "execution_count": 123,
     "metadata": {},
     "output_type": "execute_result"
    }
   ],
   "source": [
    "np.arange(0, 10 , 2).reshape(5,1)"
   ]
  },
  {
   "cell_type": "code",
   "execution_count": 125,
   "metadata": {},
   "outputs": [
    {
     "data": {
      "text/plain": [
       "array([  0.        ,  11.11111111,  22.22222222,  33.33333333,\n",
       "        44.44444444,  55.55555556,  66.66666667,  77.77777778,\n",
       "        88.88888889, 100.        ])"
      ]
     },
     "execution_count": 125,
     "metadata": {},
     "output_type": "execute_result"
    }
   ],
   "source": [
    "np.linspace(0, 100, 10)"
   ]
  },
  {
   "cell_type": "markdown",
   "metadata": {},
   "source": [
    "#### 전치행렬(transpose matrix) ? 행렬의 행은 열로 열은 행으로 바꾼 행렬을 의미한다\n",
    "- T\n",
    "- transpose operation"
   ]
  },
  {
   "cell_type": "code",
   "execution_count": 126,
   "metadata": {},
   "outputs": [
    {
     "name": "stdout",
     "output_type": "stream",
     "text": [
      "type       : <class 'numpy.ndarray'>\n",
      "shape      : (2, 3)\n",
      "dimension  : 2\n",
      "dtype      : int32\n",
      "Array Data : \n",
      " [[1 2 3]\n",
      " [4 5 6]]\n"
     ]
    }
   ],
   "source": [
    "ary = np.arange(1, 7).reshape(2,3)\n",
    "aryInfo(ary)"
   ]
  },
  {
   "cell_type": "code",
   "execution_count": 127,
   "metadata": {},
   "outputs": [
    {
     "name": "stdout",
     "output_type": "stream",
     "text": [
      "type       : <class 'numpy.ndarray'>\n",
      "shape      : (3, 2)\n",
      "dimension  : 2\n",
      "dtype      : int32\n",
      "Array Data : \n",
      " [[1 4]\n",
      " [2 5]\n",
      " [3 6]]\n"
     ]
    }
   ],
   "source": [
    "ary_transpose = ary.T\n",
    "aryInfo(ary_transpose)"
   ]
  },
  {
   "cell_type": "code",
   "execution_count": 133,
   "metadata": {},
   "outputs": [
    {
     "name": "stdout",
     "output_type": "stream",
     "text": [
      "type       : <class 'numpy.ndarray'>\n",
      "shape      : (10,)\n",
      "dimension  : 1\n",
      "dtype      : int32\n",
      "Array Data : \n",
      " [0 1 2 3 4 5 6 7 8 9]\n",
      "\n",
      "1차원 배열에 대한 전치연산은 가능할까? -  [0 1 2 3 4 5 6 7 8 9]\n",
      "안된다.. 그런데 방법이 있을까? - \n",
      "있다. 뭘까요? - \n",
      "type       : <class 'numpy.ndarray'>\n",
      "shape      : (10, 1)\n",
      "dimension  : 2\n",
      "dtype      : int32\n",
      "Array Data : \n",
      " [[0]\n",
      " [1]\n",
      " [2]\n",
      " [3]\n",
      " [4]\n",
      " [5]\n",
      " [6]\n",
      " [7]\n",
      " [8]\n",
      " [9]]\n"
     ]
    }
   ],
   "source": [
    "vec = np.arange(10)\n",
    "aryInfo(vec)\n",
    "print()\n",
    "print('1차원 배열에 대한 전치연산은 가능할까? - ' , vec.T)\n",
    "print('안된다.. 그런데 방법이 있을까? - ')\n",
    "print('있다. 뭘까요? - ')\n",
    "vec_transpose = vec.reshape(1, 10).T\n",
    "aryInfo( vec_transpose )\n"
   ]
  },
  {
   "cell_type": "markdown",
   "metadata": {},
   "source": [
    "- 다차원 배열을 1차원으로 만들어야 한다면?\n",
    "- flatten"
   ]
  },
  {
   "cell_type": "code",
   "execution_count": 135,
   "metadata": {},
   "outputs": [
    {
     "name": "stdout",
     "output_type": "stream",
     "text": [
      "type       : <class 'numpy.ndarray'>\n",
      "shape      : (10,)\n",
      "dimension  : 1\n",
      "dtype      : int32\n",
      "Array Data : \n",
      " [0 1 2 3 4 5 6 7 8 9]\n"
     ]
    }
   ],
   "source": [
    "aryInfo( vec_transpose.flatten() )"
   ]
  },
  {
   "cell_type": "markdown",
   "metadata": {},
   "source": [
    "- 배열 사용시 주의점(차원에 대한 주의가 필요함!!)"
   ]
  },
  {
   "cell_type": "code",
   "execution_count": 146,
   "metadata": {},
   "outputs": [
    {
     "name": "stdout",
     "output_type": "stream",
     "text": [
      "type       : <class 'numpy.ndarray'>\n",
      "shape      : (10,)\n",
      "dimension  : 1\n",
      "dtype      : int32\n",
      "Array Data : \n",
      " [0 1 2 3 4 5 6 7 8 9]\n",
      "\n",
      "reshape - \n",
      "type       : <class 'numpy.ndarray'>\n",
      "shape      : (1, 10)\n",
      "dimension  : 2\n",
      "dtype      : int32\n",
      "Array Data : \n",
      " [[0 1 2 3 4 5 6 7 8 9]]\n",
      "\n",
      "reshape - \n",
      "type       : <class 'numpy.ndarray'>\n",
      "shape      : (10, 1)\n",
      "dimension  : 2\n",
      "dtype      : int32\n",
      "Array Data : \n",
      " [[0]\n",
      " [1]\n",
      " [2]\n",
      " [3]\n",
      " [4]\n",
      " [5]\n",
      " [6]\n",
      " [7]\n",
      " [8]\n",
      " [9]]\n",
      "\n",
      "reshape 이 아닌 차원증가를 위해서는 : newaxis - \n",
      "type       : <class 'numpy.ndarray'>\n",
      "shape      : (1, 10)\n",
      "dimension  : 2\n",
      "dtype      : int32\n",
      "Array Data : \n",
      " [[0 1 2 3 4 5 6 7 8 9]]\n",
      "\n",
      "type       : <class 'numpy.ndarray'>\n",
      "shape      : (10, 1)\n",
      "dimension  : 2\n",
      "dtype      : int32\n",
      "Array Data : \n",
      " [[0]\n",
      " [1]\n",
      " [2]\n",
      " [3]\n",
      " [4]\n",
      " [5]\n",
      " [6]\n",
      " [7]\n",
      " [8]\n",
      " [9]]\n"
     ]
    }
   ],
   "source": [
    "ary = np.arange(10)\n",
    "aryInfo(ary)\n",
    "\n",
    "print()\n",
    "print('reshape - ')\n",
    "aryInfo( ary.reshape(1,10) )\n",
    "\n",
    "print()\n",
    "print('reshape - ')\n",
    "aryInfo( ary.reshape(10,1) )\n",
    "\n",
    "print()\n",
    "print('reshape 이 아닌 차원증가를 위해서는 : newaxis - ')\n",
    "aryInfo(ary[ np.newaxis ,  : ])\n",
    "print()\n",
    "aryInfo(ary[ : ,  np.newaxis ])"
   ]
  },
  {
   "cell_type": "markdown",
   "metadata": {},
   "source": [
    "#### ndarray(배열) 모든원소에 대해서 순차적으로 접근해야하는 경우\n",
    "- iternext() , finished\n"
   ]
  },
  {
   "cell_type": "code",
   "execution_count": 149,
   "metadata": {},
   "outputs": [
    {
     "data": {
      "text/plain": [
       "array([0, 1, 2, 3, 4, 5, 6, 7, 8, 9])"
      ]
     },
     "execution_count": 149,
     "metadata": {},
     "output_type": "execute_result"
    }
   ],
   "source": [
    "ary = np.arange(10)\n",
    "ary"
   ]
  },
  {
   "cell_type": "code",
   "execution_count": 152,
   "metadata": {},
   "outputs": [
    {
     "name": "stdout",
     "output_type": "stream",
     "text": [
      "0 1 2 3 4 5 6 7 8 9 "
     ]
    }
   ],
   "source": [
    "for tmp in ary :\n",
    "    print(tmp , end=\" \")"
   ]
  },
  {
   "cell_type": "code",
   "execution_count": 155,
   "metadata": {},
   "outputs": [
    {
     "name": "stdout",
     "output_type": "stream",
     "text": [
      "1차원  ndarray 에 대한 iterator - \n",
      "0 1 2 3 4 5 6 7 8 9 "
     ]
    }
   ],
   "source": [
    "print('1차원  ndarray 에 대한 iterator - ')\n",
    "ite = np.nditer(ary ,flags=['c_index'])\n",
    "\n",
    "while not ite.finished :\n",
    "    idx = ite.index\n",
    "    print(ary[idx], end=\" \")\n",
    "    ite.iternext()"
   ]
  },
  {
   "cell_type": "code",
   "execution_count": 157,
   "metadata": {},
   "outputs": [
    {
     "name": "stdout",
     "output_type": "stream",
     "text": [
      "2차원  ndarray 에 대한 iterator - \n"
     ]
    },
    {
     "data": {
      "text/plain": [
       "array([[0, 1, 2, 3, 4],\n",
       "       [5, 6, 7, 8, 9]])"
      ]
     },
     "execution_count": 157,
     "metadata": {},
     "output_type": "execute_result"
    }
   ],
   "source": [
    "print('2차원  ndarray 에 대한 iterator - ')\n",
    "ary = ary.reshape(2,5)\n",
    "ary"
   ]
  },
  {
   "cell_type": "code",
   "execution_count": 166,
   "metadata": {},
   "outputs": [
    {
     "name": "stdout",
     "output_type": "stream",
     "text": [
      "shape -  (2, 5)\n",
      "row -  2\n",
      "col -  5\n",
      "0 1 2 3 4 \n",
      "5 6 7 8 9 \n",
      "\n",
      "nditer - \n",
      "0 1 2 3 4 5 6 7 8 9 "
     ]
    }
   ],
   "source": [
    "print('shape - ' , ary.shape)\n",
    "print('row - ' , ary.shape[0])\n",
    "print('col - ' , ary.shape[1])\n",
    "\n",
    "for i in range(ary.shape[0]) :\n",
    "    for j in range(ary.shape[1]) :\n",
    "        print( ary[i][j], end=\" \")\n",
    "    print()\n",
    "\n",
    "print()\n",
    "print('nditer - ')\n",
    "ite = np.nditer(ary ,flags=['multi_index'])\n",
    "\n",
    "while not ite.finished :\n",
    "    idx = ite.multi_index\n",
    "    print(ary[idx], end=\" \")\n",
    "    ite.iternext()"
   ]
  },
  {
   "cell_type": "code",
   "execution_count": null,
   "metadata": {},
   "outputs": [],
   "source": []
  },
  {
   "cell_type": "code",
   "execution_count": null,
   "metadata": {},
   "outputs": [],
   "source": []
  },
  {
   "cell_type": "code",
   "execution_count": null,
   "metadata": {},
   "outputs": [],
   "source": []
  },
  {
   "cell_type": "code",
   "execution_count": null,
   "metadata": {},
   "outputs": [],
   "source": []
  }
 ],
 "metadata": {
  "kernelspec": {
   "display_name": "Python 3",
   "language": "python",
   "name": "python3"
  },
  "language_info": {
   "codemirror_mode": {
    "name": "ipython",
    "version": 3
   },
   "file_extension": ".py",
   "mimetype": "text/x-python",
   "name": "python",
   "nbconvert_exporter": "python",
   "pygments_lexer": "ipython3",
   "version": "3.8.5"
  }
 },
 "nbformat": 4,
 "nbformat_minor": 5
}
