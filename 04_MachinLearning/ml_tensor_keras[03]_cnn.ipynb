{
 "cells": [
  {
   "cell_type": "markdown",
   "metadata": {
    "id": "9dHESkfYIgWh"
   },
   "source": [
    "#### 합성곱신경망 - Convolutinal Neural Network\n",
    "- 합성곱레이어(Conv2D) - 풀링레이어(MaxPooling2D) - Flatten - Full Connect"
   ]
  },
  {
   "cell_type": "code",
   "execution_count": 2,
   "metadata": {
    "id": "W5NzbVl7-2UA"
   },
   "outputs": [],
   "source": [
    "from tensorflow.keras.models     import Sequential \n",
    "from tensorflow.keras.layers     import Activation , Dense , BatchNormalization , Dropout , Conv2D , MaxPooling2D , AveragePooling2D , GlobalMaxPooling2D , ZeroPadding2D , Flatten , Input\n",
    "from tensorflow.keras.optimizers import SGD , Adam\n",
    "from tensorflow.keras.utils      import plot_model , to_categorical\n",
    "from tensorflow.keras.callbacks  import EarlyStopping , ModelCheckpoint\n",
    "\n",
    "from tensorflow.keras.wrappers.scikit_learn import KerasClassifier\n",
    "\n",
    "\n",
    "from sklearn.model_selection     import train_test_split\n",
    "from sklearn.preprocessing       import StandardScaler , MinMaxScaler , LabelEncoder\n",
    "from sklearn.datasets            import load_breast_cancer\n",
    "from sklearn.model_selection     import KFold\n",
    "from sklearn.ensemble            import VotingClassifier\n",
    "from sklearn.metrics             import accuracy_score\n",
    "\n",
    "\n",
    "\n",
    "import matplotlib.pyplot as plt\n",
    "\n",
    "import pandas  as pd\n",
    "import numpy   as np\n",
    "import seaborn as sns\n",
    "\n",
    "# dataset\n",
    "from tensorflow.keras.datasets.mnist import load_data\n",
    "from sklearn.datasets                import load_digits"
   ]
  },
  {
   "cell_type": "code",
   "execution_count": 3,
   "metadata": {
    "colab": {
     "base_uri": "https://localhost:8080/"
    },
    "id": "NE9X4Iu7cEJ6",
    "outputId": "c05dff89-d19e-4825-b6bc-9529d6d1d3e2"
   },
   "outputs": [
    {
     "data": {
      "text/plain": [
       "dict_keys(['data', 'target', 'target_names', 'images', 'DESCR'])"
      ]
     },
     "execution_count": 3,
     "metadata": {},
     "output_type": "execute_result"
    }
   ],
   "source": [
    "data = load_digits()\n",
    "data.keys()"
   ]
  },
  {
   "cell_type": "code",
   "execution_count": 7,
   "metadata": {
    "colab": {
     "base_uri": "https://localhost:8080/",
     "height": 283
    },
    "id": "24ay41aHcZfj",
    "outputId": "87b2828d-37b6-4abb-9020-b35406a34aa7"
   },
   "outputs": [
    {
     "data": {
      "image/png": "[encoded data removed]",
      "text/plain": [
       "<Figure size 432x288 with 1 Axes>"
      ]
     },
     "metadata": {
      "needs_background": "light"
     },
     "output_type": "display_data"
    },
    {
     "name": "stdout",
     "output_type": "stream",
     "text": [
      "target -  0\n"
     ]
    }
   ],
   "source": [
    "plt.figure()\n",
    "\n",
    "plt.imshow(data.images[0])\n",
    "plt.show()\n",
    "\n",
    "print('target - ', data.target[0])"
   ]
  },
  {
   "cell_type": "code",
   "execution_count": 8,
   "metadata": {
    "colab": {
     "base_uri": "https://localhost:8080/"
    },
    "id": "LZUdTSyCcio7",
    "outputId": "5932ba02-9bd2-48f4-f0cd-3c18721a0864"
   },
   "outputs": [
    {
     "data": {
      "text/plain": [
       "array([[ 0.,  0.,  5., ...,  0.,  0.,  0.],\n",
       "       [ 0.,  0.,  0., ..., 10.,  0.,  0.],\n",
       "       [ 0.,  0.,  0., ..., 16.,  9.,  0.],\n",
       "       ...,\n",
       "       [ 0.,  0.,  1., ...,  6.,  0.,  0.],\n",
       "       [ 0.,  0.,  2., ..., 12.,  0.,  0.],\n",
       "       [ 0.,  0., 10., ..., 12.,  1.,  0.]])"
      ]
     },
     "execution_count": 8,
     "metadata": {},
     "output_type": "execute_result"
    }
   ],
   "source": [
    "data.data"
   ]
  },
  {
   "cell_type": "code",
   "execution_count": 10,
   "metadata": {
    "colab": {
     "base_uri": "https://localhost:8080/"
    },
    "id": "V8QLIlw1c1mj",
    "outputId": "b718207d-6ca5-4980-a655-6a696bc22b78"
   },
   "outputs": [
    {
     "data": {
      "text/plain": [
       "((1797, 8, 8), (1797,))"
      ]
     },
     "execution_count": 10,
     "metadata": {},
     "output_type": "execute_result"
    }
   ],
   "source": [
    "X_data = data.images\n",
    "y_data = data.target\n",
    "\n",
    "X_data.shape , y_data.shape"
   ]
  },
  {
   "cell_type": "code",
   "execution_count": 11,
   "metadata": {
    "colab": {
     "base_uri": "https://localhost:8080/"
    },
    "id": "qtwgg6wedMmT",
    "outputId": "65009092-f406-47f6-ba67-285bba38b2e9"
   },
   "outputs": [
    {
     "data": {
      "text/plain": [
       "(1797, 8, 8)"
      ]
     },
     "execution_count": 11,
     "metadata": {},
     "output_type": "execute_result"
    }
   ],
   "source": [
    "X_data.shape[0] , X_data.shape[1] , X_data.shape[2]"
   ]
  },
  {
   "cell_type": "code",
   "execution_count": 14,
   "metadata": {
    "colab": {
     "base_uri": "https://localhost:8080/"
    },
    "id": "1m9gsGefdovj",
    "outputId": "31a5c531-b16d-4593-9779-8d6d6b8db2ad"
   },
   "outputs": [
    {
     "data": {
      "text/plain": [
       "(1797, 8, 8, 1)"
      ]
     },
     "execution_count": 14,
     "metadata": {},
     "output_type": "execute_result"
    }
   ],
   "source": [
    "X_data = X_data.reshape(X_data.shape[0] , X_data.shape[1] , X_data.shape[2] , 1) \n",
    "X_data.shape"
   ]
  },
  {
   "cell_type": "code",
   "execution_count": 15,
   "metadata": {
    "colab": {
     "base_uri": "https://localhost:8080/"
    },
    "id": "6-SybXUYd3DL",
    "outputId": "9861b987-a2f9-4cf8-b9a6-4b4f4b4dffa5"
   },
   "outputs": [
    {
     "data": {
      "text/plain": [
       "array([1., 0., 0., 0., 0., 0., 0., 0., 0., 0.], dtype=float32)"
      ]
     },
     "execution_count": 15,
     "metadata": {},
     "output_type": "execute_result"
    }
   ],
   "source": [
    "y_data = to_categorical(y_data) \n",
    "y_data[0]"
   ]
  },
  {
   "cell_type": "code",
   "execution_count": 46,
   "metadata": {
    "colab": {
     "base_uri": "https://localhost:8080/"
    },
    "id": "lLxdgDWXd928",
    "outputId": "a025a3e8-ac06-4e12-c74b-e7ecb6eaeaf6"
   },
   "outputs": [
    {
     "data": {
      "text/plain": [
       "((1437, 8, 8, 1), (360, 8, 8, 1), (1437, 10), (360, 10))"
      ]
     },
     "execution_count": 46,
     "metadata": {},
     "output_type": "execute_result"
    }
   ],
   "source": [
    "X_train , X_test , y_train , y_test = train_test_split(X_data , y_data , test_size = 0.2 , random_state = 111 )\n",
    "X_train.shape , X_test.shape , y_train.shape , y_test.shape"
   ]
  },
  {
   "cell_type": "code",
   "execution_count": 47,
   "metadata": {
    "id": "-u03K5vPd95-"
   },
   "outputs": [],
   "source": [
    "model = Sequential()"
   ]
  },
  {
   "cell_type": "code",
   "execution_count": 48,
   "metadata": {
    "colab": {
     "base_uri": "https://localhost:8080/"
    },
    "id": "zYjvevEkfAro",
    "outputId": "871b7dd9-9bfb-41fe-9583-dd77abaee6c6"
   },
   "outputs": [
    {
     "name": "stdout",
     "output_type": "stream",
     "text": [
      "cnn은 입력층 대신에 합성곱레이어가 필요하다 - \n",
      "\n",
      "shape -  (None, 6, 6, 10)\n"
     ]
    }
   ],
   "source": [
    "print('cnn은 입력층 대신에 합성곱레이어가 필요하다 - ')\n",
    "print()\n",
    "\n",
    "\n",
    "model.add( Conv2D(input_shape=(X_data.shape[1] , X_data.shape[2] , X_data.shape[3]) , kernel_size=(3,3) , strides=(1,1) ,  filters=10 , padding='valid' , activation='relu') )\n",
    "print('shape - ' , model.output_shape)"
   ]
  },
  {
   "cell_type": "code",
   "execution_count": 49,
   "metadata": {
    "colab": {
     "base_uri": "https://localhost:8080/"
    },
    "id": "oSQ9LQGxd98p",
    "outputId": "6a3043a3-6039-46fd-90fb-8bb4a9777e25"
   },
   "outputs": [
    {
     "name": "stdout",
     "output_type": "stream",
     "text": [
      "풀링레이어를 만들기 - \n",
      "\n",
      "shape -  (None, 3, 3, 10)\n"
     ]
    }
   ],
   "source": [
    "print('풀링레이어를 만들기 - ') \n",
    "print()\n",
    "\n",
    "model.add( MaxPooling2D(pool_size = (2,2) , padding = 'valid')  )  \n",
    "print('shape - ' , model.output_shape)"
   ]
  },
  {
   "cell_type": "code",
   "execution_count": 50,
   "metadata": {
    "id": "3CBatuTud9_e"
   },
   "outputs": [],
   "source": [
    "model.add( Flatten() ) \n",
    "model.add( Dense(50 , activation='relu'))\n",
    "model.add( Dense(10 , activation='softmax') ) "
   ]
  },
  {
   "cell_type": "code",
   "execution_count": 51,
   "metadata": {
    "colab": {
     "base_uri": "https://localhost:8080/"
    },
    "id": "Gq5TVpwid-CL",
    "outputId": "6b8874b1-7319-4735-c204-589d48ef06b8"
   },
   "outputs": [
    {
     "name": "stdout",
     "output_type": "stream",
     "text": [
      "Model: \"sequential_8\"\n",
      "_________________________________________________________________\n",
      "Layer (type)                 Output Shape              Param #   \n",
      "=================================================================\n",
      "conv2d_9 (Conv2D)            (None, 6, 6, 10)          100       \n",
      "_________________________________________________________________\n",
      "max_pooling2d_4 (MaxPooling2 (None, 3, 3, 10)          0         \n",
      "_________________________________________________________________\n",
      "flatten (Flatten)            (None, 90)                0         \n",
      "_________________________________________________________________\n",
      "dense (Dense)                (None, 50)                4550      \n",
      "_________________________________________________________________\n",
      "dense_1 (Dense)              (None, 10)                510       \n",
      "=================================================================\n",
      "Total params: 5,160\n",
      "Trainable params: 5,160\n",
      "Non-trainable params: 0\n",
      "_________________________________________________________________\n"
     ]
    }
   ],
   "source": [
    "model.summary()"
   ]
  },
  {
   "cell_type": "code",
   "execution_count": 62,
   "metadata": {
    "id": "1QxQSPVNd-FE"
   },
   "outputs": [],
   "source": [
    "model.compile(optimizer = Adam(learning_rate=0.01) , \n",
    "               loss = 'categorical_crossentropy' , \n",
    "               metrics=['accuracy']) "
   ]
  },
  {
   "cell_type": "code",
   "execution_count": null,
   "metadata": {
    "id": "XxiHl5mCd4ek"
   },
   "outputs": [],
   "source": [
    "model_history = model.fit(X_train, y_train , batch_size= 50 , validation_split=0.2 , epochs=100 , verbose = 1 )\n"
   ]
  },
  {
   "cell_type": "code",
   "execution_count": 64,
   "metadata": {
    "colab": {
     "base_uri": "https://localhost:8080/",
     "height": 334
    },
    "id": "pm0ICHtTp1hw",
    "outputId": "4fd29799-99c2-410e-cac7-c32682592aa6"
   },
   "outputs": [
    {
     "data": {
      "image/png": "[encoded data removed]",
      "text/plain": [
       "<Figure size 1080x360 with 1 Axes>"
      ]
     },
     "metadata": {
      "needs_background": "light"
     },
     "output_type": "display_data"
    }
   ],
   "source": [
    "plt.figure(figsize=(15,5))\n",
    "\n",
    "plt.plot( model_history.history['accuracy'])\n",
    "plt.plot( model_history.history['val_accuracy'])\n",
    "\n",
    "plt.legend(['training' , 'validation'] , loc='best')\n",
    "plt.xlabel('Epoch')\n",
    "plt.ylabel('accuracy')\n",
    "\n",
    "plt.show()"
   ]
  },
  {
   "cell_type": "code",
   "execution_count": 65,
   "metadata": {
    "colab": {
     "base_uri": "https://localhost:8080/"
    },
    "id": "HByuC3p3qEcW",
    "outputId": "87f4f578-918c-49f1-c9c7-2d06dce336dd"
   },
   "outputs": [
    {
     "name": "stdout",
     "output_type": "stream",
     "text": [
      "12/12 [==============================] - 0s 2ms/step - loss: 0.6389 - accuracy: 0.9583\n",
      "0.9583333134651184\n"
     ]
    }
   ],
   "source": [
    "model_eval = model.evaluate(X_test , y_test) \n",
    "print(model_eval[1])"
   ]
  },
  {
   "cell_type": "markdown",
   "metadata": {
    "id": "pEWdazGQq1Y-"
   },
   "source": [
    "#### Deep CNN"
   ]
  },
  {
   "cell_type": "code",
   "execution_count": 69,
   "metadata": {
    "id": "irPpG8EQq147"
   },
   "outputs": [],
   "source": [
    "def digit_deep_cnn() :\n",
    "  model = Sequential()\n",
    "\n",
    "  model.add( Conv2D(input_shape=(X_data.shape[1] , X_data.shape[2] , X_data.shape[3]) , kernel_size=(3,3) , strides=(1,1) ,  filters=50 , padding='same' , activation='relu') )\n",
    "  model.add( Conv2D(kernel_size=(3,3) , strides=(1,1) ,  filters=50 , padding='same' , activation='relu') )\n",
    "  model.add( Conv2D(kernel_size=(3,3) , strides=(1,1) ,  filters=50 , padding='same' , activation='relu') )\n",
    "  model.add( Conv2D(kernel_size=(3,3) , strides=(1,1) ,  filters=50 , padding='same' , activation='relu') )\n",
    "\n",
    "  model.add( MaxPooling2D(pool_size = (2,2) , padding = 'same')  )\n",
    "\n",
    "  model.add( Conv2D(kernel_size=(3,3) , strides=(1,1) ,  filters=50 , padding='same' , activation='relu') )\n",
    "  model.add( Conv2D(kernel_size=(3,3) , strides=(1,1) ,  filters=50 , padding='same' , activation='relu') )\n",
    "  \n",
    "  model.add( MaxPooling2D(pool_size = (2,2) , padding = 'same')  )\n",
    "\n",
    "  model.add( Flatten() ) \n",
    "  model.add( Dense(50 , activation='relu'))\n",
    "  model.add( Dense(10 , activation='softmax') ) \n",
    "\n",
    "  model.compile(optimizer = Adam(learning_rate=0.001) , \n",
    "               loss = 'categorical_crossentropy' , \n",
    "               metrics=['accuracy']) \n",
    "  \n",
    "  return model \n",
    "\n"
   ]
  },
  {
   "cell_type": "code",
   "execution_count": null,
   "metadata": {
    "id": "Rnd3IF52sTE8"
   },
   "outputs": [],
   "source": [
    "model = digit_deep_cnn()\n",
    "model.summary()"
   ]
  },
  {
   "cell_type": "code",
   "execution_count": null,
   "metadata": {
    "id": "HcP-lXO-qw5v"
   },
   "outputs": [],
   "source": [
    "model_history = model.fit(X_train, y_train , batch_size= 50 , validation_split=0.2 , epochs=100 , verbose = 1 )"
   ]
  },
  {
   "cell_type": "code",
   "execution_count": 72,
   "metadata": {
    "colab": {
     "base_uri": "https://localhost:8080/",
     "height": 334
    },
    "id": "cVqQvXWVqz1w",
    "outputId": "bedc54e2-6f11-4f78-91e7-a6d07ff52c37"
   },
   "outputs": [
    {
     "data": {
      "image/png": "[encoded data removed]",
      "text/plain": [
       "<Figure size 1080x360 with 1 Axes>"
      ]
     },
     "metadata": {
      "needs_background": "light"
     },
     "output_type": "display_data"
    }
   ],
   "source": [
    "plt.figure(figsize=(15,5))\n",
    "\n",
    "plt.plot( model_history.history['accuracy'])\n",
    "plt.plot( model_history.history['val_accuracy'])\n",
    "\n",
    "plt.legend(['training' , 'validation'] , loc='best')\n",
    "plt.xlabel('Epoch')\n",
    "plt.ylabel('accuracy')\n",
    "\n",
    "plt.show()"
   ]
  },
  {
   "cell_type": "code",
   "execution_count": 73,
   "metadata": {
    "colab": {
     "base_uri": "https://localhost:8080/"
    },
    "id": "4hKlcdNRqlZJ",
    "outputId": "6322bb8f-b53b-43c1-e4c1-1d79d9af3b8c"
   },
   "outputs": [
    {
     "name": "stdout",
     "output_type": "stream",
     "text": [
      "12/12 [==============================] - 0s 12ms/step - loss: 0.1088 - accuracy: 0.9861\n",
      "0.9861111044883728\n"
     ]
    }
   ],
   "source": [
    "model_eval = model.evaluate(X_test , y_test) \n",
    "print(model_eval[1])"
   ]
  },
  {
   "cell_type": "code",
   "execution_count": 74,
   "metadata": {
    "id": "WLxpuJp3tdiV"
   },
   "outputs": [],
   "source": [
    "def digit_improve_deep_cnn() :\n",
    "\n",
    "  model = Sequential()\n",
    "\n",
    "  model.add( Conv2D(input_shape=(X_data.shape[1] , X_data.shape[2] , X_data.shape[3]) , kernel_size=(3,3) , strides=(1,1) ,  filters=50 , padding='same' ) )\n",
    "  model.add( BatchNormalization() ) \n",
    "  model.add( Activation('relu'))\n",
    "\n",
    "  model.add( Conv2D(kernel_size=(3,3) , strides=(1,1) ,  filters=50 , padding='same') )\n",
    "  model.add( BatchNormalization() ) \n",
    "  model.add( Activation('relu'))\n",
    "\n",
    "\n",
    "  model.add( MaxPooling2D(pool_size = (2,2) , padding = 'same')  )\n",
    "\n",
    "  model.add( Conv2D(kernel_size=(3,3) , strides=(1,1) ,  filters=50 , padding='same') )\n",
    "  model.add( BatchNormalization() ) \n",
    "  model.add( Activation('relu'))\n",
    "\n",
    "  model.add( Conv2D(kernel_size=(3,3) , strides=(1,1) ,  filters=50 , padding='same') )\n",
    "  model.add( BatchNormalization() ) \n",
    "  model.add( Activation('relu'))\n",
    "  \n",
    "  model.add( MaxPooling2D(pool_size = (2,2) , padding = 'same')  )\n",
    "\n",
    "\n",
    "  model.add( Conv2D(kernel_size=(3,3) , strides=(1,1) ,  filters=50 , padding='same') )\n",
    "  model.add( BatchNormalization() ) \n",
    "  model.add( Activation('relu'))\n",
    "\n",
    "  model.add( Conv2D(kernel_size=(3,3) , strides=(1,1) ,  filters=50 , padding='same') )\n",
    "  model.add( BatchNormalization() ) \n",
    "  model.add( Activation('relu'))\n",
    "  \n",
    "  model.add( MaxPooling2D(pool_size = (2,2) , padding = 'same')  )\n",
    "\n",
    "  model.add( Flatten() ) \n",
    "  model.add( Dense(50 , activation='relu' , kernel_initializer='he_normal'))\n",
    "  model.add( Dropout(0.5) ) \n",
    "   \n",
    "  model.add( Dense(10 , activation='softmax' , kernel_initializer='he_normal') ) \n",
    "\n",
    "  model.compile(optimizer = Adam(learning_rate=0.001) , \n",
    "               loss = 'categorical_crossentropy' , \n",
    "               metrics=['accuracy']) \n",
    "  \n",
    "  return model "
   ]
  },
  {
   "cell_type": "code",
   "execution_count": null,
   "metadata": {
    "id": "t0XfFEnYvK0Z"
   },
   "outputs": [],
   "source": [
    "model = digit_improve_deep_cnn()\n",
    "model.summary()"
   ]
  },
  {
   "cell_type": "code",
   "execution_count": null,
   "metadata": {
    "id": "3yRv6Jqwu5wM"
   },
   "outputs": [],
   "source": [
    "callbacks = [ EarlyStopping(monitor='val_accuracy' , patience = 10 )] \n",
    "model_history = model.fit(X_train, y_train , batch_size= 50 , validation_split=0.3 , epochs=100 , verbose = 1  , callbacks= callbacks)"
   ]
  },
  {
   "cell_type": "code",
   "execution_count": 77,
   "metadata": {
    "colab": {
     "base_uri": "https://localhost:8080/",
     "height": 334
    },
    "id": "WHCEJmibvdQM",
    "outputId": "80975268-bfc6-428e-e38b-bcfdcb5f33cb"
   },
   "outputs": [
    {
     "data": {
      "image/png": "[encoded data removed]",
      "text/plain": [
       "<Figure size 1080x360 with 1 Axes>"
      ]
     },
     "metadata": {
      "needs_background": "light"
     },
     "output_type": "display_data"
    }
   ],
   "source": [
    "plt.figure(figsize=(15,5))\n",
    "\n",
    "plt.plot( model_history.history['accuracy'])\n",
    "plt.plot( model_history.history['val_accuracy'])\n",
    "\n",
    "plt.legend(['training' , 'validation'] , loc='best')\n",
    "plt.xlabel('Epoch')\n",
    "plt.ylabel('accuracy')\n",
    "\n",
    "plt.show()"
   ]
  },
  {
   "cell_type": "code",
   "execution_count": 78,
   "metadata": {
    "colab": {
     "base_uri": "https://localhost:8080/"
    },
    "id": "hc1qRRP3vrlW",
    "outputId": "a2f7af40-a20b-445f-f91d-1893c09ba746"
   },
   "outputs": [
    {
     "name": "stdout",
     "output_type": "stream",
     "text": [
      "12/12 [==============================] - 0s 9ms/step - loss: 0.2300 - accuracy: 0.9528\n",
      "0.9527778029441833\n"
     ]
    }
   ],
   "source": [
    "model_eval = model.evaluate(X_test , y_test) \n",
    "print(model_eval[1])"
   ]
  },
  {
   "cell_type": "code",
   "execution_count": null,
   "metadata": {
    "id": "rCSTvo4dvxJm"
   },
   "outputs": [],
   "source": []
  }
 ],
 "metadata": {
  "colab": {
   "name": "ml_tensor_keras[03]-cnn.ipynb",
   "provenance": []
  },
  "kernelspec": {
   "display_name": "Python 3",
   "language": "python",
   "name": "python3"
  },
  "language_info": {
   "codemirror_mode": {
    "name": "ipython",
    "version": 3
   },
   "file_extension": ".py",
   "mimetype": "text/x-python",
   "name": "python",
   "nbconvert_exporter": "python",
   "pygments_lexer": "ipython3",
   "version": "3.8.5"
  }
 },
 "nbformat": 4,
 "nbformat_minor": 1
}
