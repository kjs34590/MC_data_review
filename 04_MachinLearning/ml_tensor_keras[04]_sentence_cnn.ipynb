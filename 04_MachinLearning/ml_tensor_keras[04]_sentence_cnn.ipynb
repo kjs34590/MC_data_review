{
  "nbformat": 4,
  "nbformat_minor": 0,
  "metadata": {
    "colab": {
      "name": "ml_tensor_keras[04]-sentence cnn.ipynb",
      "provenance": []
    },
    "kernelspec": {
      "name": "python3",
      "display_name": "Python 3"
    },
    "language_info": {
      "name": "python"
    }
  },
  "cells": [
    {
      "cell_type": "markdown",
      "metadata": {
        "id": "FOUiwesqDkMC"
      },
      "source": [
        "#### 문장분류를 위한 합성곱 신경망\n",
        "- 문장분류(긍정, 분류)\n",
        "- I am a teacher"
      ]
    },
    {
      "cell_type": "code",
      "metadata": {
        "id": "-P5O2ooPDNJw"
      },
      "source": [
        "from tensorflow.keras.models     import Sequential \n",
        "from tensorflow.keras.layers     import Activation , Dense , BatchNormalization , Dropout , Conv2D , MaxPooling2D , AveragePooling2D , GlobalMaxPooling2D , ZeroPadding2D , Flatten , Input\n",
        "\n",
        "from tensorflow.keras.layers     import Conv1D , MaxPooling1D , Embedding , Reshape , concatenate\n",
        "\n",
        "from tensorflow.keras.optimizers import SGD , Adam\n",
        "from tensorflow.keras.utils      import plot_model , to_categorical\n",
        "from tensorflow.keras.callbacks  import EarlyStopping , ModelCheckpoint\n",
        "\n",
        "from tensorflow.keras.preprocessing.sequence import pad_sequences\n",
        "\n",
        "from tensorflow.keras.wrappers.scikit_learn import KerasClassifier\n",
        "\n",
        "\n",
        "from sklearn.model_selection     import train_test_split\n",
        "from sklearn.preprocessing       import StandardScaler , MinMaxScaler , LabelEncoder\n",
        "from sklearn.datasets            import load_breast_cancer\n",
        "from sklearn.model_selection     import KFold\n",
        "from sklearn.ensemble            import VotingClassifier\n",
        "from sklearn.metrics             import accuracy_score\n",
        "\n",
        "\n",
        "\n",
        "import matplotlib.pyplot as plt\n",
        "\n",
        "import pandas  as pd\n",
        "import numpy   as np\n",
        "import seaborn as sns\n",
        "\n",
        "# dataset\n",
        "from tensorflow.keras.datasets.mnist import load_data\n",
        "from tensorflow.keras.datasets       import imdb\n",
        "from sklearn.datasets                import load_digits\n"
      ],
      "execution_count": 6,
      "outputs": []
    },
    {
      "cell_type": "markdown",
      "metadata": {
        "id": "3EL-dy1kFvX-"
      },
      "source": [
        "- I am a teacher : 행렬에서 하나의 단어가 하나의 행을 차지하게 된다 ->embedding vector\n",
        "- 합성곱 연산은 단어 단어로 이루어진다(행 단위)\n"
      ]
    },
    {
      "cell_type": "code",
      "metadata": {
        "colab": {
          "base_uri": "https://localhost:8080/"
        },
        "id": "O1n9lK5yFQXE",
        "outputId": "1fb1f1fc-e0d1-4d5c-fa13-cdb194c6b191"
      },
      "source": [
        "print('num_words : 빈도 순으로 상위 몇 개의 단어를 포함시킬 것인가를 결정 - ')\n",
        "(X_train, y_train) , (X_test , y_test) = imdb.load_data(num_words= 3000)\n",
        "\n",
        "X_train.shape , y_train.shape , X_test.shape , y_test.shape"
      ],
      "execution_count": 17,
      "outputs": [
        {
          "output_type": "execute_result",
          "data": {
            "text/plain": [
              "((25000,), (25000,), (25000,), (25000,))"
            ]
          },
          "metadata": {},
          "execution_count": 17
        }
      ]
    },
    {
      "cell_type": "code",
      "metadata": {
        "colab": {
          "base_uri": "https://localhost:8080/"
        },
        "id": "ntTudH5vHCLl",
        "outputId": "c54f2973-0d6c-4724-81db-9afd785c24cf"
      },
      "source": [
        "print('sequence_length : 각 문장의 최대 길이 - ')\n",
        "sequence_length = 300\n",
        "X_train = pad_sequences(X_train , maxlen = sequence_length)\n",
        "X_test = pad_sequences(X_test , maxlen = sequence_length)\n",
        "\n",
        "X_train.shape , y_train.shape , X_test.shape , y_test.shape"
      ],
      "execution_count": 18,
      "outputs": [
        {
          "output_type": "stream",
          "name": "stdout",
          "text": [
            "sequence_length : 각 문장의 최대 길이 - \n"
          ]
        },
        {
          "output_type": "execute_result",
          "data": {
            "text/plain": [
              "((25000, 300), (25000,), (25000, 300), (25000,))"
            ]
          },
          "metadata": {},
          "execution_count": 18
        }
      ]
    },
    {
      "cell_type": "code",
      "metadata": {
        "colab": {
          "base_uri": "https://localhost:8080/"
        },
        "id": "LfQvDfOqHPFZ",
        "outputId": "ca09e11a-58ba-414b-b3a3-18244ca5d77c"
      },
      "source": [
        "print('output_dim : 각 단어를 표현하는 벡터 공간의 크기 - ')\n",
        "def cnn_sentence_conv1d() :\n",
        "  model = Sequential()\n",
        "\n",
        "  model.add( Embedding(input_dim=3000 , output_dim=100 , input_length=sequence_length) )\n",
        "  model.add( Conv1D(kernel_size= 5  , strides= 1 ,  filters=50 , padding='valid') )\n",
        "  model.add( MaxPooling1D(pool_size = 2 , padding = 'valid')  )\n",
        "\n",
        "  model.add( Flatten() ) \n",
        "  model.add( Dense(10 , activation='relu'))\n",
        "\n",
        "  model.add( Dense(1  , activation='sigmoid') )\n",
        "\n",
        "  model.compile(optimizer = Adam(learning_rate=0.001) , \n",
        "               loss = 'binary_crossentropy' , \n",
        "               metrics=['accuracy']) \n",
        "  \n",
        "  return model\n",
        "  \n",
        "\n",
        " \n"
      ],
      "execution_count": 25,
      "outputs": [
        {
          "output_type": "stream",
          "name": "stdout",
          "text": [
            "output_dim : 각 단어를 표현하는 벡터 공간의 크기 - \n"
          ]
        }
      ]
    },
    {
      "cell_type": "code",
      "metadata": {
        "colab": {
          "base_uri": "https://localhost:8080/"
        },
        "id": "1u4gI5_cIrYT",
        "outputId": "6130eb92-8fd7-4591-e93f-01f0a74c5aff"
      },
      "source": [
        "# X_train.shape , y_train.shape , X_test.shape , y_test.shape\n",
        "model = cnn_sentence_conv1d()\n",
        "model_history = model.fit(X_train, y_train , batch_size= 50 , validation_split=0.2 , epochs=5 , verbose = 1 )"
      ],
      "execution_count": 26,
      "outputs": [
        {
          "output_type": "stream",
          "name": "stdout",
          "text": [
            "Epoch 1/5\n",
            "400/400 [==============================] - 35s 86ms/step - loss: 0.4217 - accuracy: 0.7844 - val_loss: 0.3010 - val_accuracy: 0.8718\n",
            "Epoch 2/5\n",
            "400/400 [==============================] - 34s 85ms/step - loss: 0.2458 - accuracy: 0.9031 - val_loss: 0.3064 - val_accuracy: 0.8690\n",
            "Epoch 3/5\n",
            "400/400 [==============================] - 34s 86ms/step - loss: 0.1657 - accuracy: 0.9401 - val_loss: 0.3387 - val_accuracy: 0.8628\n",
            "Epoch 4/5\n",
            "400/400 [==============================] - 34s 85ms/step - loss: 0.0665 - accuracy: 0.9822 - val_loss: 0.4008 - val_accuracy: 0.8614\n",
            "Epoch 5/5\n",
            "400/400 [==============================] - 34s 85ms/step - loss: 0.0169 - accuracy: 0.9969 - val_loss: 0.5431 - val_accuracy: 0.8544\n"
          ]
        }
      ]
    },
    {
      "cell_type": "code",
      "metadata": {
        "colab": {
          "base_uri": "https://localhost:8080/",
          "height": 334
        },
        "id": "CAHd_9YQK7QM",
        "outputId": "7e0171fb-e6f6-482f-b3e0-c40b5f828b73"
      },
      "source": [
        "plt.figure(figsize=(15,5))\n",
        "\n",
        "plt.plot( model_history.history['accuracy'])\n",
        "plt.plot( model_history.history['val_accuracy'])\n",
        "\n",
        "plt.legend(['training' , 'validation'] , loc='best')\n",
        "plt.xlabel('Epoch')\n",
        "plt.ylabel('accuracy')\n",
        "\n",
        "plt.show()"
      ],
      "execution_count": 27,
      "outputs": [
        {
          "output_type": "display_data",
          "data": {
            "image/png": "[encoded data removed]",
            "text/plain": [
              "<Figure size 1080x360 with 1 Axes>"
            ]
          },
          "metadata": {
            "needs_background": "light"
          }
        }
      ]
    },
    {
      "cell_type": "code",
      "metadata": {
        "id": "IwkthLFOIrbF"
      },
      "source": [
        "def cnn_improve_sentence_conv2d() :\n",
        "  model = Sequential()\n",
        "\n",
        "  model.add( Embedding(input_dim=3000 , output_dim=100 , input_length=sequence_length) )\n",
        "  model.add( Reshape( (300, 100, 1), input_shape=(300, 100) ))\n",
        "\n",
        "  model.add( Conv2D(kernel_size= (5,100)  , strides= (1,1) ,  filters=50 , padding='valid') )\n",
        "  model.add( GlobalMaxPooling2D()  )\n",
        "\n",
        "  \n",
        "  model.add( Dense(10) )\n",
        "  model.add( Activation('relu') )\n",
        "  model.add( Dropout(0.3) ) \n",
        "\n",
        "  model.add( Dense(10) )\n",
        "  model.add( Activation('relu') )\n",
        "  model.add( Dropout(0.3) ) \n",
        "\n",
        "  model.add( Dense(1  , activation='sigmoid') )\n",
        "\n",
        "  model.compile(optimizer = Adam(learning_rate=0.001) , \n",
        "               loss = 'binary_crossentropy' , \n",
        "               metrics=['accuracy']) \n",
        "  \n",
        "  return model"
      ],
      "execution_count": 30,
      "outputs": []
    },
    {
      "cell_type": "code",
      "metadata": {
        "id": "aHgc4R2PIrdx"
      },
      "source": [
        "model = cnn_improve_sentence_conv2d()\n"
      ],
      "execution_count": 31,
      "outputs": []
    },
    {
      "cell_type": "code",
      "metadata": {
        "colab": {
          "base_uri": "https://localhost:8080/"
        },
        "id": "EytGcu1WIrgh",
        "outputId": "9242bb19-023a-4e89-fdde-c5f677f7f325"
      },
      "source": [
        "model_history = model.fit(X_train, y_train , batch_size= 50 , validation_split=0.2 , epochs=5 , verbose = 1 )"
      ],
      "execution_count": 32,
      "outputs": [
        {
          "output_type": "stream",
          "name": "stdout",
          "text": [
            "Epoch 1/5\n",
            "400/400 [==============================] - 46s 115ms/step - loss: 0.5511 - accuracy: 0.7143 - val_loss: 0.3784 - val_accuracy: 0.8386\n",
            "Epoch 2/5\n",
            "400/400 [==============================] - 46s 114ms/step - loss: 0.3628 - accuracy: 0.8666 - val_loss: 0.3187 - val_accuracy: 0.8696\n",
            "Epoch 3/5\n",
            "400/400 [==============================] - 46s 114ms/step - loss: 0.2761 - accuracy: 0.9043 - val_loss: 0.2993 - val_accuracy: 0.8748\n",
            "Epoch 4/5\n",
            "400/400 [==============================] - 46s 114ms/step - loss: 0.2145 - accuracy: 0.9326 - val_loss: 0.3096 - val_accuracy: 0.8812\n",
            "Epoch 5/5\n",
            "400/400 [==============================] - 46s 114ms/step - loss: 0.1634 - accuracy: 0.9504 - val_loss: 0.3562 - val_accuracy: 0.8776\n"
          ]
        }
      ]
    },
    {
      "cell_type": "code",
      "metadata": {
        "colab": {
          "base_uri": "https://localhost:8080/",
          "height": 334
        },
        "id": "iJ2hSfgaIrjD",
        "outputId": "25932b54-5f01-4fce-b60d-b31e6cc08a7f"
      },
      "source": [
        "plt.figure(figsize=(15,5))\n",
        "\n",
        "plt.plot( model_history.history['accuracy'])\n",
        "plt.plot( model_history.history['val_accuracy'])\n",
        "\n",
        "plt.legend(['training' , 'validation'] , loc='best')\n",
        "plt.xlabel('Epoch')\n",
        "plt.ylabel('accuracy')\n",
        "\n",
        "plt.show()"
      ],
      "execution_count": 33,
      "outputs": [
        {
          "output_type": "display_data",
          "data": {
            "image/png": "[encoded data removed]",
            "text/plain": [
              "<Figure size 1080x360 with 1 Axes>"
            ]
          },
          "metadata": {
            "needs_background": "light"
          }
        }
      ]
    },
    {
      "cell_type": "code",
      "metadata": {
        "colab": {
          "base_uri": "https://localhost:8080/"
        },
        "id": "EweHfbh-Irlr",
        "outputId": "7dd55214-23eb-4f5d-86b9-12e978c4f026"
      },
      "source": [
        "sentence_result = model.evaluate(X_test, y_test) \n",
        "print('accuracy - ' , sentence_result[1])"
      ],
      "execution_count": 34,
      "outputs": [
        {
          "output_type": "stream",
          "name": "stdout",
          "text": [
            "782/782 [==============================] - 11s 14ms/step - loss: 0.3818 - accuracy: 0.8706\n",
            "accuracy -  0.870639979839325\n"
          ]
        }
      ]
    },
    {
      "cell_type": "code",
      "metadata": {
        "id": "IuG9fierUpnC"
      },
      "source": [
        ""
      ],
      "execution_count": null,
      "outputs": []
    },
    {
      "cell_type": "code",
      "metadata": {
        "id": "bc9tT9dtIroJ"
      },
      "source": [
        ""
      ],
      "execution_count": 8,
      "outputs": []
    },
    {
      "cell_type": "code",
      "metadata": {
        "id": "58OECSaKIrq8"
      },
      "source": [
        ""
      ],
      "execution_count": 8,
      "outputs": []
    },
    {
      "cell_type": "code",
      "metadata": {
        "id": "8eNmjS6YIrti"
      },
      "source": [
        ""
      ],
      "execution_count": 8,
      "outputs": []
    },
    {
      "cell_type": "code",
      "metadata": {
        "id": "RSzXP58qIrwU"
      },
      "source": [
        ""
      ],
      "execution_count": null,
      "outputs": []
    }
  ]
}