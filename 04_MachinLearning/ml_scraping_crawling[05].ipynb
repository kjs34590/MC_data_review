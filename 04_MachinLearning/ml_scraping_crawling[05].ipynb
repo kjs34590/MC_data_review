{
 "cells": [
  {
   "cell_type": "code",
   "execution_count": 1,
   "metadata": {},
   "outputs": [
    {
     "name": "stdout",
     "output_type": "stream",
     "text": [
      "numpy version :  1.19.2\n",
      "pandas version :  1.19.2\n"
     ]
    }
   ],
   "source": [
    "# 라이브러리 import\n",
    "import numpy as np\n",
    "import pandas as pd\n",
    "import matplotlib.pyplot as plt\n",
    "import seaborn as sns\n",
    "\n",
    "import warnings\n",
    "warnings.filterwarnings(action='ignore')\n",
    "\n",
    "from datetime import date, datetime, timedelta\n",
    "from dateutil.parser import parse\n",
    "\n",
    "from glob import glob\n",
    "\n",
    "print('numpy version : ', np.__version__)\n",
    "print('pandas version : ', np.__version__)\n",
    "\n",
    "# 한글 폰트 문제 해결\n",
    "import platform\n",
    "\n",
    "from matplotlib import font_manager, rc\n",
    "\n",
    "if platform.system() == 'Darwin':\n",
    "    plt.rc('font', family='AppleGothic')\n",
    "elif platform.system() == 'Windows':\n",
    "    path = \"c:/Windows/Fonts/malgun.ttf\"\n",
    "    font_name = font_manager.FontProperties(fname=path).get_name()\n",
    "    plt.rc('font', family=font_name)\n",
    "else:\n",
    "    print('Unknown system... sorry~~~~') \n",
    "\n",
    "# 차트 축 <- 음수 부호 지원\n",
    "import matplotlib\n",
    "matplotlib.rcParams['axes.unicode_minus'] = False"
   ]
  },
  {
   "cell_type": "code",
   "execution_count": 2,
   "metadata": {},
   "outputs": [],
   "source": [
    "from bs4 import BeautifulSoup\n",
    "from urllib.request import urlopen\n",
    "from urllib.error   import HTTPError\n",
    "from urllib.error   import URLError\n",
    "from urllib.request import urlretrieve\n",
    "\n",
    "import requests\n",
    "import re"
   ]
  },
  {
   "cell_type": "code",
   "execution_count": null,
   "metadata": {},
   "outputs": [],
   "source": []
  },
  {
   "cell_type": "code",
   "execution_count": null,
   "metadata": {},
   "outputs": [],
   "source": []
  },
  {
   "cell_type": "code",
   "execution_count": null,
   "metadata": {},
   "outputs": [],
   "source": []
  },
  {
   "cell_type": "code",
   "execution_count": null,
   "metadata": {},
   "outputs": [],
   "source": []
  },
  {
   "cell_type": "code",
   "execution_count": null,
   "metadata": {},
   "outputs": [],
   "source": []
  },
  {
   "cell_type": "markdown",
   "metadata": {},
   "source": [
    "### 메타문자\n",
    "- []: 괄호 사이의 문자들과 매치\n",
    "- -(하이픈): [from -  to]\n",
    "\n",
    "#\n",
    "- \\d: 숫자[0-9]\n",
    "- \\D: 숫자가 아닌것을 의미[^0-9]\n",
    "- \\s: 공백[\\n\\t\\r\\v]\n",
    "- \\S: 공백이 아닌것[^\\n\\t\\r\\v]\n",
    "- \\w: 문자+숫자+_ [a-zA-Z0-9_]\n",
    "- \\W: 문자+숫자+_ 아닌것 [^a-zA-Z0-9_]\n",
    "- . : 개행문자(\\n)를 제외한 모든 문자\n",
    "    \n",
    "#\n",
    "- ^[]: 시작문자를 매치        ex) ^a\n",
    "- $[]: 문자열의 끝과 매치     ex) $a\n",
    "\n",
    "#\n",
    "- * : 반복(0-무한대)\n",
    "- + : 반복(1-무한대)\n",
    "- ? : 있어도 되고 없어도 된다.(0 or 1)\n",
    "- {cnt} : cnt만큼 반복        ex) {x,y}: x~y번 반복"
   ]
  },
  {
   "cell_type": "code",
   "execution_count": 4,
   "metadata": {},
   "outputs": [],
   "source": [
    "com = re.compile('[apple]')"
   ]
  },
  {
   "cell_type": "code",
   "execution_count": 5,
   "metadata": {},
   "outputs": [
    {
     "data": {
      "text/plain": [
       "['a', 'e', 'a', 'p', 'p', 'l', 'e']"
      ]
     },
     "execution_count": 5,
     "metadata": {},
     "output_type": "execute_result"
    }
   ],
   "source": [
    "com.findall('I ate apple')"
   ]
  },
  {
   "cell_type": "code",
   "execution_count": 7,
   "metadata": {},
   "outputs": [
    {
     "data": {
      "text/plain": [
       "['1', '2', '3', '1', '2', '1', '2', '3', '1', '2', '3', '1', '2']"
      ]
     },
     "execution_count": 7,
     "metadata": {},
     "output_type": "execute_result"
    }
   ],
   "source": [
    "com = re.compile('[1-3]')\n",
    "com.findall('123129480192312389124')"
   ]
  },
  {
   "cell_type": "code",
   "execution_count": 8,
   "metadata": {},
   "outputs": [
    {
     "data": {
      "text/plain": [
       "['a', 'd', 'e', 'd', 'c', 'a', 'e', 'd']"
      ]
     },
     "execution_count": 8,
     "metadata": {},
     "output_type": "execute_result"
    }
   ],
   "source": [
    "com = re.compile('[a-e]')\n",
    "com.findall('asdligenvkdcjoaiejfd')"
   ]
  },
  {
   "cell_type": "code",
   "execution_count": null,
   "metadata": {},
   "outputs": [],
   "source": []
  },
  {
   "cell_type": "code",
   "execution_count": null,
   "metadata": {},
   "outputs": [],
   "source": []
  },
  {
   "cell_type": "code",
   "execution_count": null,
   "metadata": {},
   "outputs": [],
   "source": []
  },
  {
   "cell_type": "code",
   "execution_count": null,
   "metadata": {},
   "outputs": [],
   "source": []
  },
  {
   "cell_type": "code",
   "execution_count": 9,
   "metadata": {},
   "outputs": [
    {
     "name": "stdout",
     "output_type": "stream",
     "text": [
      "문자열 검색과 치환 - \n",
      "- match()\n"
     ]
    }
   ],
   "source": [
    "print('문자열 검색과 치환 - ')\n",
    "print('- match()')"
   ]
  },
  {
   "cell_type": "code",
   "execution_count": null,
   "metadata": {},
   "outputs": [],
   "source": [
    "patter = r'<td class=\"left\"><a.*?></td>'\n",
    "\n",
    "tds = re.findall(pattern, txt)\n",
    "for td in tds :\n",
    "    search_url = "
   ]
  },
  {
   "cell_type": "code",
   "execution_count": null,
   "metadata": {},
   "outputs": [],
   "source": []
  },
  {
   "cell_type": "code",
   "execution_count": null,
   "metadata": {},
   "outputs": [],
   "source": []
  },
  {
   "cell_type": "code",
   "execution_count": null,
   "metadata": {},
   "outputs": [],
   "source": [
    "## 최종실습\n",
    "\n",
    "- http://www.cine21.com/rank/person\n",
    "\n",
    "- 1. 라이브러리 import\n",
    "- 2. db connection - db create - collection create\n",
    "- 3. request\n",
    "- 4. 현재 페이지의 배우이름만 추출(특수문자 제외)\n",
    "- 5. 현재 페이지에서 클릭 후 상세정보를 가져오기\n",
    "- (배우이름, 흥행지수, 출연영화, 랭킹, 원어명(본명) , 다른이름, 직업, 생년월일, 성별, 홈페이지, 신장/체중, 학교, 취미, 특기)\n",
    "- 6. 배우이름, 흥행지수, 출연영화 [] , 랭킹 -> document create -> insert \n",
    "- 7. 페이징 처리(1 ~ 2)\n"
   ]
  }
 ],
 "metadata": {
  "kernelspec": {
   "display_name": "Python 3",
   "language": "python",
   "name": "python3"
  },
  "language_info": {
   "codemirror_mode": {
    "name": "ipython",
    "version": 3
   },
   "file_extension": ".py",
   "mimetype": "text/x-python",
   "name": "python",
   "nbconvert_exporter": "python",
   "pygments_lexer": "ipython3",
   "version": "3.8.5"
  }
 },
 "nbformat": 4,
 "nbformat_minor": 4
}
