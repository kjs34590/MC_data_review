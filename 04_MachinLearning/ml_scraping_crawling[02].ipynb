{
 "cells": [
  {
   "cell_type": "code",
   "execution_count": 18,
   "metadata": {},
   "outputs": [
    {
     "name": "stdout",
     "output_type": "stream",
     "text": [
      "numpy version :  1.19.2\n",
      "pandas version :  1.19.2\n"
     ]
    }
   ],
   "source": [
    "# 라이브러리 import\n",
    "import numpy as np\n",
    "import pandas as pd\n",
    "import matplotlib.pyplot as plt\n",
    "\n",
    "import seaborn as sns\n",
    "\n",
    "from glob import glob\n",
    "\n",
    "import warnings\n",
    "warnings.filterwarnings(action='ignore')\n",
    "\n",
    "from datetime import date, datetime, timedelta\n",
    "from dateutil.parser import parse\n",
    "\n",
    "print('numpy version : ', np.__version__)\n",
    "print('pandas version : ', np.__version__)\n",
    "\n",
    "# 한글 폰트 문제 해결\n",
    "import platform\n",
    "\n",
    "from matplotlib import font_manager, rc\n",
    "\n",
    "if platform.system() == 'Darwin':\n",
    "    plt.rc('font', family='AppleGothic')\n",
    "elif platform.system() == 'Windows':\n",
    "    path = \"c:/Windows/Fonts/malgun.ttf\"\n",
    "    font_name = font_manager.FontProperties(fname=path).get_name()\n",
    "    plt.rc('font', family=font_name)\n",
    "else:\n",
    "    print('Unknown system... sorry~~~~') \n",
    "\n",
    "\n",
    "# 차트 축 <- 음수 부호 지원\n",
    "import matplotlib\n",
    "matplotlib.rcParams['axes.unicode_minus'] = False"
   ]
  },
  {
   "cell_type": "code",
   "execution_count": 20,
   "metadata": {},
   "outputs": [],
   "source": [
    "from bs4 import BeautifulSoup\n",
    "from urllib.request import urlopen\n",
    "from urllib.error   import HTTPError\n",
    "from urllib.error   import URLError\n",
    "from urllib.request import urlretrieve\n",
    "\n",
    "import requests\n",
    "import re"
   ]
  },
  {
   "cell_type": "markdown",
   "metadata": {},
   "source": [
    "- 페이지 처리 방법"
   ]
  },
  {
   "cell_type": "code",
   "execution_count": 4,
   "metadata": {},
   "outputs": [],
   "source": [
    "from time   import sleep, time\n",
    "from random import randint"
   ]
  },
  {
   "cell_type": "code",
   "execution_count": 6,
   "metadata": {},
   "outputs": [
    {
     "name": "stdout",
     "output_type": "stream",
     "text": [
      "request : 1, frequency : 0.33207091139812145\n",
      "request : 2, frequency : 0.3985011968420927\n",
      "request : 3, frequency : 0.4266259008860712\n",
      "request : 4, frequency : 0.39842676530861576\n",
      "request : 5, frequency : 0.45244602922598137\n"
     ]
    }
   ],
   "source": [
    "start_time = time()\n",
    "requests = 0\n",
    "for idx in range(5):\n",
    "    requests += 1\n",
    "    sleep(randint(1,3))\n",
    "    current_time = time()\n",
    "    elapsed_time = current_time - start_time\n",
    "    print('request : {}, frequency : {}'.format(requests, requests/elapsed_time))\n"
   ]
  },
  {
   "cell_type": "code",
   "execution_count": 9,
   "metadata": {},
   "outputs": [
    {
     "ename": "SyntaxError",
     "evalue": "EOL while scanning string literal (<ipython-input-9-f5df17138bb0>, line 2)",
     "output_type": "error",
     "traceback": [
      "\u001b[1;36m  File \u001b[1;32m\"<ipython-input-9-f5df17138bb0>\"\u001b[1;36m, line \u001b[1;32m2\u001b[0m\n\u001b[1;33m    html = urlopen('https://ad.search.naver.com/search.naver?where=ad&sm=svc_nrs&query=%ED%8C%8C%EC%9D%B4%EC%8D%AC&referenceId=hRsbhlprvOsss4Ws7ndssssstrV-311722&pagingIndex=1\u001b[0m\n\u001b[1;37m                                                                                                                                                                               ^\u001b[0m\n\u001b[1;31mSyntaxError\u001b[0m\u001b[1;31m:\u001b[0m EOL while scanning string literal\n"
     ]
    }
   ],
   "source": [
    "try : \n",
    "    html = urlopen('https://ad.search.naver.com/search.naver?where=ad&sm=svc_nrs&query=%ED%8C%8C%EC%9D%B4%EC%8D%AC&referenceId=hRsbhlprvOsss4Ws7ndssssstrV-311722&pagingIndex=1\n",
    "')\n",
    "    print(html)\n",
    "except HTTPError as he :\n",
    "    print('http error')\n",
    "except URLError as ue :\n",
    "    print('url error')\n",
    "else : \n",
    "    soup = BeautifulSoup(html.read(), 'html.parser')\n",
    "    print(soup)"
   ]
  },
  {
   "cell_type": "code",
   "execution_count": null,
   "metadata": {},
   "outputs": [],
   "source": [
    "start_time = time()\n",
    "request = 0\n",
    "title_list = []\n",
    "for page in pages :\n",
    "    url =\n",
    "    html"
   ]
  },
  {
   "cell_type": "code",
   "execution_count": null,
   "metadata": {},
   "outputs": [],
   "source": []
  },
  {
   "cell_type": "markdown",
   "metadata": {},
   "source": [
    "- 이미지 로컬 저장소에 저장하기 (selenium)"
   ]
  },
  {
   "cell_type": "code",
   "execution_count": 22,
   "metadata": {},
   "outputs": [],
   "source": [
    "from selenium import webdriver\n",
    "import time\n",
    "driver = webdriver.Chrome('C:/users/kjs34/chromedriver.exe')\n",
    "driver.get('https://search.daum.net/search?nil_suggest=btn&w=img&DA=SBC&q=cj+enm')\n",
    "\n",
    "images = driver.find_elements_by_css_selector('#imgList > div > a > img')\n",
    "img_url = []\n",
    "for image in images :\n",
    "    url = image.get_attribute('src')\n",
    "    img_url.append(url)"
   ]
  },
  {
   "cell_type": "code",
   "execution_count": 24,
   "metadata": {},
   "outputs": [],
   "source": [
    "import os\n",
    "\n",
    "img_folder = 'C:/DATA_WORKS/PYTHON_WORKS/multicampus/crawling_img'\n",
    "\n",
    "if not os.path.isdir(img_folder) :\n",
    "    os.mkdir(img_folder)\n",
    "\n",
    "for idx, link in enumerate(img_url) :\n",
    "    urlretrieve(link, f'C:/DATA_WORKS/PYTHON_WORKS/multicampus/crawling_img/{idx}.png')\n"
   ]
  },
  {
   "cell_type": "markdown",
   "metadata": {},
   "source": [
    "### 비정형 데이터를 이용한 MongoDB 활용\n",
    "- Not only SQL(NoSQL)\n",
    "- 정해진 규칙이 없다. (Schema X)\n",
    "- join X\n",
    "- key : value 형식으로 담는다.\n",
    "- Databas - Collection(table) - Document(row, record)"
   ]
  },
  {
   "cell_type": "code",
   "execution_count": 27,
   "metadata": {},
   "outputs": [],
   "source": [
    "import pymongo as mongo"
   ]
  },
  {
   "cell_type": "markdown",
   "metadata": {},
   "source": [
    "1. connection"
   ]
  },
  {
   "cell_type": "code",
   "execution_count": 28,
   "metadata": {},
   "outputs": [
    {
     "data": {
      "text/plain": [
       "MongoClient(host=['localhost:27017'], document_class=dict, tz_aware=False, connect=True)"
      ]
     },
     "execution_count": 28,
     "metadata": {},
     "output_type": "execute_result"
    }
   ],
   "source": [
    "conn = mongo.MongoClient()\n",
    "conn"
   ]
  },
  {
   "cell_type": "markdown",
   "metadata": {},
   "source": [
    "2. Database create"
   ]
  },
  {
   "cell_type": "code",
   "execution_count": 58,
   "metadata": {},
   "outputs": [
    {
     "data": {
      "text/plain": [
       "Database(MongoClient(host=['localhost:27017'], document_class=dict, tz_aware=False, connect=True), 'articleDB')"
      ]
     },
     "execution_count": 58,
     "metadata": {},
     "output_type": "execute_result"
    }
   ],
   "source": [
    "db = conn.articleDB\n",
    "db"
   ]
  },
  {
   "cell_type": "markdown",
   "metadata": {},
   "source": [
    "3. Collection Create"
   ]
  },
  {
   "cell_type": "code",
   "execution_count": 31,
   "metadata": {},
   "outputs": [
    {
     "data": {
      "text/plain": [
       "Collection(Database(MongoClient(host=['localhost:27017'], document_class=dict, tz_aware=False, connect=True), 'articleDB'), 'article')"
      ]
     },
     "execution_count": 31,
     "metadata": {},
     "output_type": "execute_result"
    }
   ],
   "source": [
    "article_collection = db['article']\n",
    "article_collection"
   ]
  },
  {
   "cell_type": "markdown",
   "metadata": {},
   "source": [
    "4. CRUD\n",
    "- Document Insert\n",
    "- insert_one() - shell(insertOne())\n",
    "- insert_many() - shell(insertMany())"
   ]
  },
  {
   "cell_type": "code",
   "execution_count": 38,
   "metadata": {},
   "outputs": [],
   "source": [
    "document01 = {\n",
    "    'author' : 'jskim',\n",
    "    'subject' : 'mongodb',\n",
    "    'content' : 'to enhance data analytics skill',\n",
    "    'tags' : ['data', 'NoSQL', 'pymongo', 'python'],\n",
    "    'view' : 50\n",
    "}"
   ]
  },
  {
   "cell_type": "code",
   "execution_count": 39,
   "metadata": {},
   "outputs": [
    {
     "data": {
      "text/plain": [
       "<pymongo.results.InsertOneResult at 0x253d8d81340>"
      ]
     },
     "execution_count": 39,
     "metadata": {},
     "output_type": "execute_result"
    }
   ],
   "source": [
    "article_collection.insert_one(document01)"
   ]
  },
  {
   "cell_type": "code",
   "execution_count": 40,
   "metadata": {},
   "outputs": [
    {
     "data": {
      "text/plain": [
       "<pymongo.cursor.Cursor at 0x253d9986970>"
      ]
     },
     "execution_count": 40,
     "metadata": {},
     "output_type": "execute_result"
    }
   ],
   "source": [
    "article_collection.find()"
   ]
  },
  {
   "cell_type": "code",
   "execution_count": 41,
   "metadata": {},
   "outputs": [],
   "source": [
    "document02 = {\n",
    "    'author' : 'admin',\n",
    "    'subject' : '인공지능',\n",
    "    'content' : 'garbage in garbage out',\n",
    "    'tags' : ['data', 'NoSQL', 'pymongo', 'python'],\n",
    "    'view' : 100\n",
    "}"
   ]
  },
  {
   "cell_type": "code",
   "execution_count": 42,
   "metadata": {},
   "outputs": [
    {
     "data": {
      "text/plain": [
       "<pymongo.results.InsertOneResult at 0x253d8d9d700>"
      ]
     },
     "execution_count": 42,
     "metadata": {},
     "output_type": "execute_result"
    }
   ],
   "source": [
    "article_collection.insert_one(document02)"
   ]
  },
  {
   "cell_type": "code",
   "execution_count": 45,
   "metadata": {},
   "outputs": [],
   "source": [
    "cursor = article_collection.find()"
   ]
  },
  {
   "cell_type": "code",
   "execution_count": 46,
   "metadata": {},
   "outputs": [
    {
     "name": "stdout",
     "output_type": "stream",
     "text": [
      "{'_id': ObjectId('61403d068e2990a83e2825e7'), 'author': 'jskim', 'subject': 'mongodb', 'content': 'to enhance data analytics skill', 'tags': ['data', 'NoSQL', 'pymongo', 'python'], 'view': 50}\n",
      "**************************************************\n",
      "{'_id': ObjectId('61403e3e8e2990a83e2825e8'), 'author': 'jskim', 'subject': 'mongodb', 'content': 'to enhance data analytics skill', 'tags': ['data', 'NoSQL', 'pymongo', 'python'], 'view': 50}\n",
      "**************************************************\n",
      "{'_id': ObjectId('61403e468e2990a83e2825e9'), 'author': 'admin', 'subject': '인공지능', 'content': 'garbage in garbage out', 'tags': ['data', 'NoSQL', 'pymongo', 'python'], 'view': 100}\n",
      "**************************************************\n"
     ]
    }
   ],
   "source": [
    "for doc in cursor :\n",
    "    print(doc)\n",
    "    print(\"*\" * 50)"
   ]
  },
  {
   "cell_type": "code",
   "execution_count": 47,
   "metadata": {},
   "outputs": [],
   "source": [
    "document03 = {\n",
    "    'author' : 'admin',\n",
    "    'subject' : '인공지능',\n",
    "    'content' : 'garbage in garbage out',\n",
    "    'tags' : ['data', 'NoSQL', 'pymongo', 'python'],\n",
    "    'view' : 200\n",
    "}"
   ]
  },
  {
   "cell_type": "code",
   "execution_count": 48,
   "metadata": {},
   "outputs": [
    {
     "data": {
      "text/plain": [
       "<pymongo.results.InsertOneResult at 0x253d8d88640>"
      ]
     },
     "execution_count": 48,
     "metadata": {},
     "output_type": "execute_result"
    }
   ],
   "source": [
    "article_collection.insert_one(document03)"
   ]
  },
  {
   "cell_type": "code",
   "execution_count": 57,
   "metadata": {},
   "outputs": [
    {
     "name": "stdout",
     "output_type": "stream",
     "text": [
      "{'_id': ObjectId('61403ef78e2990a83e2825ea'), 'author': 'admin', 'subject': '인공지능', 'content': 'garbage in garbage out', 'tags': ['data', 'NoSQL', 'pymongo', 'python'], 'view': 200}\n",
      "**************************************************\n"
     ]
    }
   ],
   "source": [
    "cursor = article_collection.find({'author' : 'admin', 'view' : {'$gte' : 150}})\n",
    "for doc in cursor :\n",
    "    print(doc)\n",
    "    print(\"*\" * 50)"
   ]
  },
  {
   "cell_type": "code",
   "execution_count": 59,
   "metadata": {},
   "outputs": [],
   "source": [
    "doc_list = [\n",
    "    {\n",
    "    'author' : 'kjs34590',\n",
    "    'subject' : '210915 study',\n",
    "    'content' : 'mongodb day 2',\n",
    "    'tags' : ['mongoDB', 'NoSQL', 'pymongo', 'python'],\n",
    "    'view' : 200\n",
    "    },\n",
    "    {\n",
    "    'author' : 'kjs34590',\n",
    "    'subject' : 'starbucks',\n",
    "    'content' : 'americano',\n",
    "    'tags' : ['coffee', 'wifi', 'gift'],\n",
    "    'view' : 200\n",
    "    },\n",
    "    {\n",
    "    'author' : 'jisus0817',\n",
    "    'subject' : 'doc test',\n",
    "    'content' : 'create multiple',\n",
    "    'tags' : ['insert', 'many', 'pymongo', 'python'],\n",
    "    'view' : 200\n",
    "    }\n",
    "]"
   ]
  },
  {
   "cell_type": "code",
   "execution_count": 60,
   "metadata": {},
   "outputs": [
    {
     "data": {
      "text/plain": [
       "<pymongo.results.InsertManyResult at 0x253d8db9bc0>"
      ]
     },
     "execution_count": 60,
     "metadata": {},
     "output_type": "execute_result"
    }
   ],
   "source": [
    "article_collection.insert_many(doc_list)"
   ]
  },
  {
   "cell_type": "code",
   "execution_count": 61,
   "metadata": {},
   "outputs": [
    {
     "name": "stdout",
     "output_type": "stream",
     "text": [
      "{'_id': ObjectId('61403d068e2990a83e2825e7'), 'author': 'jskim', 'subject': 'mongodb', 'content': 'to enhance data analytics skill', 'tags': ['data', 'NoSQL', 'pymongo', 'python'], 'view': 50}\n",
      "**************************************************\n",
      "{'_id': ObjectId('61403e3e8e2990a83e2825e8'), 'author': 'jskim', 'subject': 'mongodb', 'content': 'to enhance data analytics skill', 'tags': ['data', 'NoSQL', 'pymongo', 'python'], 'view': 50}\n",
      "**************************************************\n",
      "{'_id': ObjectId('61403e468e2990a83e2825e9'), 'author': 'admin', 'subject': '인공지능', 'content': 'garbage in garbage out', 'tags': ['data', 'NoSQL', 'pymongo', 'python'], 'view': 100}\n",
      "**************************************************\n",
      "{'_id': ObjectId('61403ef78e2990a83e2825ea'), 'author': 'admin', 'subject': '인공지능', 'content': 'garbage in garbage out', 'tags': ['data', 'NoSQL', 'pymongo', 'python'], 'view': 200}\n",
      "**************************************************\n",
      "{'_id': ObjectId('61413bd68e2990a83e2825eb'), 'author': 'kjs34590', 'subject': '210915 study', 'content': 'mongodb day 2', 'tags': ['mongoDB', 'NoSQL', 'pymongo', 'python'], 'view': 200}\n",
      "**************************************************\n",
      "{'_id': ObjectId('61413bd68e2990a83e2825ec'), 'author': 'kjs34590', 'subject': 'starbucks', 'content': 'americano', 'tags': ['coffee', 'wifi', 'gift'], 'view': 200}\n",
      "**************************************************\n",
      "{'_id': ObjectId('61413bd68e2990a83e2825ed'), 'author': 'jisus0817', 'subject': 'doc test', 'content': 'create multiple', 'tags': ['insert', 'many', 'pymongo', 'python'], 'view': 200}\n",
      "**************************************************\n"
     ]
    }
   ],
   "source": [
    "cursor = article_collection.find()\n",
    "for doc in cursor :\n",
    "    print(doc)\n",
    "    print(\"*\" * 50)"
   ]
  },
  {
   "cell_type": "markdown",
   "metadata": {},
   "source": [
    "- select * from table whear ~~\n",
    "- find ( {} <- query criteria, {} <- projection)"
   ]
  },
  {
   "cell_type": "code",
   "execution_count": 76,
   "metadata": {},
   "outputs": [
    {
     "name": "stdout",
     "output_type": "stream",
     "text": [
      "{'_id': ObjectId('61403ef78e2990a83e2825ea'), 'author': 'admin', 'subject': '인공지능', 'content': 'garbage in garbage out', 'tags': ['data', 'NoSQL', 'pymongo', 'python'], 'view': 200}\n",
      "**************************************************\n"
     ]
    }
   ],
   "source": [
    "#  비교문법들 \n",
    "#  $eq : =\n",
    "#  $gte : >=\n",
    "#  $lte : <=\n",
    "#  $ne : !=\n",
    "\n",
    "# cursor = article_collection.find({},{'author':1, '_id':0})\n",
    "#cursor = article_collection.find({'author': {'$eq' : 'kjs34590'}})\n",
    "cursor = article_collection.find({'view':{'$gte':200}, 'author' : 'admin'})\n",
    "for doc in cursor :\n",
    "    print(doc)\n",
    "    print(\"*\" * 50)"
   ]
  },
  {
   "cell_type": "markdown",
   "metadata": {},
   "source": [
    "- Document Update\n",
    "- update table set field = value where ~~\n",
    "- update_one(), update_many()\n",
    "- update ({} <- filter, {} <- action)"
   ]
  },
  {
   "cell_type": "code",
   "execution_count": null,
   "metadata": {},
   "outputs": [],
   "source": []
  },
  {
   "cell_type": "code",
   "execution_count": 64,
   "metadata": {},
   "outputs": [
    {
     "name": "stdout",
     "output_type": "stream",
     "text": [
      "url open success\n"
     ]
    },
    {
     "data": {
      "text/html": [
       "<div>\n",
       "<style scoped>\n",
       "    .dataframe tbody tr th:only-of-type {\n",
       "        vertical-align: middle;\n",
       "    }\n",
       "\n",
       "    .dataframe tbody tr th {\n",
       "        vertical-align: top;\n",
       "    }\n",
       "\n",
       "    .dataframe thead th {\n",
       "        text-align: right;\n",
       "    }\n",
       "</style>\n",
       "<table border=\"1\" class=\"dataframe\">\n",
       "  <thead>\n",
       "    <tr style=\"text-align: right;\">\n",
       "      <th></th>\n",
       "      <th>period</th>\n",
       "      <th>desc</th>\n",
       "      <th>img</th>\n",
       "      <th>temp</th>\n",
       "    </tr>\n",
       "  </thead>\n",
       "  <tbody>\n",
       "    <tr>\n",
       "      <th>0</th>\n",
       "      <td>Tonight</td>\n",
       "      <td>Partly Cloudyand Breezythen MostlyCloudy</td>\n",
       "      <td>DualImage.php?i=nwind_sct&amp;j=nbkn</td>\n",
       "      <td>Low: 56 °F</td>\n",
       "    </tr>\n",
       "    <tr>\n",
       "      <th>1</th>\n",
       "      <td>Wednesday</td>\n",
       "      <td>DecreasingClouds</td>\n",
       "      <td>newimages/medium/bkn.png</td>\n",
       "      <td>High: 68 °F</td>\n",
       "    </tr>\n",
       "    <tr>\n",
       "      <th>2</th>\n",
       "      <td>WednesdayNight</td>\n",
       "      <td>Mostly Cloudy</td>\n",
       "      <td>newimages/medium/nbkn.png</td>\n",
       "      <td>Low: 55 °F</td>\n",
       "    </tr>\n",
       "    <tr>\n",
       "      <th>3</th>\n",
       "      <td>Thursday</td>\n",
       "      <td>DecreasingClouds</td>\n",
       "      <td>newimages/medium/bkn.png</td>\n",
       "      <td>High: 66 °F</td>\n",
       "    </tr>\n",
       "    <tr>\n",
       "      <th>4</th>\n",
       "      <td>ThursdayNight</td>\n",
       "      <td>Partly Cloudy</td>\n",
       "      <td>newimages/medium/nsct.png</td>\n",
       "      <td>Low: 55 °F</td>\n",
       "    </tr>\n",
       "    <tr>\n",
       "      <th>5</th>\n",
       "      <td>Friday</td>\n",
       "      <td>Sunny</td>\n",
       "      <td>newimages/medium/few.png</td>\n",
       "      <td>High: 68 °F</td>\n",
       "    </tr>\n",
       "    <tr>\n",
       "      <th>6</th>\n",
       "      <td>FridayNight</td>\n",
       "      <td>Mostly Clearand Breezythen MostlyCloudy</td>\n",
       "      <td>DualImage.php?i=nwind_few&amp;j=nbkn</td>\n",
       "      <td>Low: 57 °F</td>\n",
       "    </tr>\n",
       "    <tr>\n",
       "      <th>7</th>\n",
       "      <td>Saturday</td>\n",
       "      <td>Partly Sunny</td>\n",
       "      <td>newimages/medium/bkn.png</td>\n",
       "      <td>High: 68 °F</td>\n",
       "    </tr>\n",
       "    <tr>\n",
       "      <th>8</th>\n",
       "      <td>SaturdayNight</td>\n",
       "      <td>Slight ChanceShowers</td>\n",
       "      <td>newimages/medium/nshra.png</td>\n",
       "      <td>Low: 57 °F</td>\n",
       "    </tr>\n",
       "  </tbody>\n",
       "</table>\n",
       "</div>"
      ],
      "text/plain": [
       "           period                                      desc  \\\n",
       "0         Tonight  Partly Cloudyand Breezythen MostlyCloudy   \n",
       "1       Wednesday                          DecreasingClouds   \n",
       "2  WednesdayNight                             Mostly Cloudy   \n",
       "3        Thursday                          DecreasingClouds   \n",
       "4   ThursdayNight                             Partly Cloudy   \n",
       "5          Friday                                     Sunny   \n",
       "6     FridayNight   Mostly Clearand Breezythen MostlyCloudy   \n",
       "7        Saturday                              Partly Sunny   \n",
       "8   SaturdayNight                      Slight ChanceShowers   \n",
       "\n",
       "                                img         temp  \n",
       "0  DualImage.php?i=nwind_sct&j=nbkn   Low: 56 °F  \n",
       "1          newimages/medium/bkn.png  High: 68 °F  \n",
       "2         newimages/medium/nbkn.png   Low: 55 °F  \n",
       "3          newimages/medium/bkn.png  High: 66 °F  \n",
       "4         newimages/medium/nsct.png   Low: 55 °F  \n",
       "5          newimages/medium/few.png  High: 68 °F  \n",
       "6  DualImage.php?i=nwind_few&j=nbkn   Low: 57 °F  \n",
       "7          newimages/medium/bkn.png  High: 68 °F  \n",
       "8        newimages/medium/nshra.png   Low: 57 °F  "
      ]
     },
     "execution_count": 64,
     "metadata": {},
     "output_type": "execute_result"
    }
   ],
   "source": [
    "try : \n",
    "    html = urlopen('https://forecast.weather.gov/MapClick.php?lat=37.7772&lon=-122.4168#.YT618p0zaUn')\n",
    "    print('url open success')\n",
    "except HTTPError as he :\n",
    "    print('http error')\n",
    "except URLError as ue :\n",
    "    print('url error')\n",
    "else : \n",
    "    soup = BeautifulSoup(html.read(), 'html.parser')\n",
    "\n",
    "sevenDays = soup.find_all(class_ = 'forecast-tombstone')\n",
    "forecast = soup.find_all(class_ = 'tombstone-container')\n",
    "periods = soup.select('.tombstone-container .period-name')\n",
    "periods_text = [tag.get_text() for tag in periods]\n",
    "descs = soup.select('.tombstone-container .short-desc')\n",
    "descs_text = [tag.get_text() for tag in descs]\n",
    "imgs = soup.select('.tombstone-container .forecast-icon')\n",
    "imgs_text =[tag['src'] for tag in imgs]\n",
    "temps = soup.select('.tombstone-container .temp')\n",
    "temps_text = [tag.get_text() for tag in temps]\n",
    "\n",
    "forecast_frm = pd.DataFrame({\n",
    "    'period' : periods_text,\n",
    "    'desc' : descs_text,\n",
    "    'img' : imgs_text,\n",
    "    'temp' : temps_text\n",
    "})\n",
    "forecast_frm"
   ]
  },
  {
   "cell_type": "code",
   "execution_count": 65,
   "metadata": {},
   "outputs": [
    {
     "data": {
      "text/plain": [
       "Database(MongoClient(host=['localhost:27017'], document_class=dict, tz_aware=False, connect=True), 'weatherDB')"
      ]
     },
     "execution_count": 65,
     "metadata": {},
     "output_type": "execute_result"
    }
   ],
   "source": [
    "weatherdb = conn.weatherDB\n",
    "weatherdb"
   ]
  },
  {
   "cell_type": "code",
   "execution_count": 66,
   "metadata": {},
   "outputs": [
    {
     "data": {
      "text/plain": [
       "Collection(Database(MongoClient(host=['localhost:27017'], document_class=dict, tz_aware=False, connect=True), 'weatherDB'), 'weather')"
      ]
     },
     "execution_count": 66,
     "metadata": {},
     "output_type": "execute_result"
    }
   ],
   "source": [
    "weather_collection = weatherdb['weather']\n",
    "weather_collection"
   ]
  },
  {
   "cell_type": "code",
   "execution_count": 67,
   "metadata": {},
   "outputs": [
    {
     "name": "stdout",
     "output_type": "stream",
     "text": [
      "[{'period': 'Tonight', 'desc': 'Partly Cloudyand Breezythen MostlyCloudy', 'img': 'DualImage.php?i=nwind_sct&j=nbkn', 'temp': 'Low: 56 °F'}, {'period': 'Wednesday', 'desc': 'DecreasingClouds', 'img': 'newimages/medium/bkn.png', 'temp': 'High: 68 °F'}, {'period': 'WednesdayNight', 'desc': 'Mostly Cloudy', 'img': 'newimages/medium/nbkn.png', 'temp': 'Low: 55 °F'}, {'period': 'Thursday', 'desc': 'DecreasingClouds', 'img': 'newimages/medium/bkn.png', 'temp': 'High: 66 °F'}, {'period': 'ThursdayNight', 'desc': 'Partly Cloudy', 'img': 'newimages/medium/nsct.png', 'temp': 'Low: 55 °F'}, {'period': 'Friday', 'desc': 'Sunny', 'img': 'newimages/medium/few.png', 'temp': 'High: 68 °F'}, {'period': 'FridayNight', 'desc': 'Mostly Clearand Breezythen MostlyCloudy', 'img': 'DualImage.php?i=nwind_few&j=nbkn', 'temp': 'Low: 57 °F'}, {'period': 'Saturday', 'desc': 'Partly Sunny', 'img': 'newimages/medium/bkn.png', 'temp': 'High: 68 °F'}, {'period': 'SaturdayNight', 'desc': 'Slight ChanceShowers', 'img': 'newimages/medium/nshra.png', 'temp': 'Low: 57 °F'}]\n"
     ]
    }
   ],
   "source": [
    "doc_list = [ {'period' : periods_text[i],\n",
    "              'desc' : descs_text[i],\n",
    "              'img' : imgs_text[i],\n",
    "              'temp' : temps_text[i]} for i in range(0, len(periods_text))]\n",
    "print(doc_list)"
   ]
  },
  {
   "cell_type": "code",
   "execution_count": 68,
   "metadata": {},
   "outputs": [
    {
     "data": {
      "text/plain": [
       "<pymongo.results.InsertManyResult at 0x253d8d9dbc0>"
      ]
     },
     "execution_count": 68,
     "metadata": {},
     "output_type": "execute_result"
    }
   ],
   "source": [
    "weather_collection.insert_many(doc_list)"
   ]
  },
  {
   "cell_type": "code",
   "execution_count": 69,
   "metadata": {},
   "outputs": [
    {
     "name": "stdout",
     "output_type": "stream",
     "text": [
      "{'_id': ObjectId('614141d78e2990a83e2825ee'), 'period': 'Tonight', 'desc': 'Partly Cloudyand Breezythen MostlyCloudy', 'img': 'DualImage.php?i=nwind_sct&j=nbkn', 'temp': 'Low: 56 °F'}\n",
      "********************************************************************************\n",
      "{'_id': ObjectId('614141d78e2990a83e2825ef'), 'period': 'Wednesday', 'desc': 'DecreasingClouds', 'img': 'newimages/medium/bkn.png', 'temp': 'High: 68 °F'}\n",
      "********************************************************************************\n",
      "{'_id': ObjectId('614141d78e2990a83e2825f0'), 'period': 'WednesdayNight', 'desc': 'Mostly Cloudy', 'img': 'newimages/medium/nbkn.png', 'temp': 'Low: 55 °F'}\n",
      "********************************************************************************\n",
      "{'_id': ObjectId('614141d78e2990a83e2825f1'), 'period': 'Thursday', 'desc': 'DecreasingClouds', 'img': 'newimages/medium/bkn.png', 'temp': 'High: 66 °F'}\n",
      "********************************************************************************\n",
      "{'_id': ObjectId('614141d78e2990a83e2825f2'), 'period': 'ThursdayNight', 'desc': 'Partly Cloudy', 'img': 'newimages/medium/nsct.png', 'temp': 'Low: 55 °F'}\n",
      "********************************************************************************\n",
      "{'_id': ObjectId('614141d78e2990a83e2825f3'), 'period': 'Friday', 'desc': 'Sunny', 'img': 'newimages/medium/few.png', 'temp': 'High: 68 °F'}\n",
      "********************************************************************************\n",
      "{'_id': ObjectId('614141d78e2990a83e2825f4'), 'period': 'FridayNight', 'desc': 'Mostly Clearand Breezythen MostlyCloudy', 'img': 'DualImage.php?i=nwind_few&j=nbkn', 'temp': 'Low: 57 °F'}\n",
      "********************************************************************************\n",
      "{'_id': ObjectId('614141d78e2990a83e2825f5'), 'period': 'Saturday', 'desc': 'Partly Sunny', 'img': 'newimages/medium/bkn.png', 'temp': 'High: 68 °F'}\n",
      "********************************************************************************\n",
      "{'_id': ObjectId('614141d78e2990a83e2825f6'), 'period': 'SaturdayNight', 'desc': 'Slight ChanceShowers', 'img': 'newimages/medium/nshra.png', 'temp': 'Low: 57 °F'}\n",
      "********************************************************************************\n"
     ]
    }
   ],
   "source": [
    "cursor = weather_collection.find()\n",
    "for doc in cursor :\n",
    "    print(doc)\n",
    "    print(\"*\" * 80)"
   ]
  },
  {
   "cell_type": "markdown",
   "metadata": {},
   "source": []
  }
 ],
 "metadata": {
  "kernelspec": {
   "display_name": "Python 3",
   "language": "python",
   "name": "python3"
  },
  "language_info": {
   "codemirror_mode": {
    "name": "ipython",
    "version": 3
   },
   "file_extension": ".py",
   "mimetype": "text/x-python",
   "name": "python",
   "nbconvert_exporter": "python",
   "pygments_lexer": "ipython3",
   "version": "3.8.5"
  }
 },
 "nbformat": 4,
 "nbformat_minor": 4
}
