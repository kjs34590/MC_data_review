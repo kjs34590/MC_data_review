{
 "cells": [
  {
   "cell_type": "markdown",
   "metadata": {},
   "source": [
    "### 머신러닝 개념 (ML)\n",
    "- 데이터를 기반으로 패턴을 학습하고 결과를 추론하는 알고리즘 기법\n",
    "- 지도학습(Supervised Learning), 비지도학습(Unsupervised Learning), 강화학습(Reinforcement Learning)\n",
    "- 분류(Classfication), 회귀(Regression)\n",
    "- 비지도학습 : 군집화(Clustering), 차원축소(PCA)\n",
    "\n",
    "### 머신러닝 용어\n",
    "- 피처(feature) : 데이터의 일반 속성\n",
    "- 레이블, 클래스, 타겟값, 결정값 : 정답데이터를 의미"
   ]
  },
  {
   "cell_type": "code",
   "execution_count": 60,
   "metadata": {},
   "outputs": [
    {
     "data": {
      "text/plain": [
       "'0.23.2'"
      ]
     },
     "execution_count": 60,
     "metadata": {},
     "output_type": "execute_result"
    }
   ],
   "source": [
    "import numpy as np\n",
    "import pandas as pd\n",
    "\n",
    "import sklearn\n",
    "from sklearn.datasets import load_iris\n",
    "\n",
    "from sklearn.model_selection import train_test_split, KFold, StratifiedKFold, cross_val_score, cross_validate\n",
    "from sklearn.tree import DecisionTreeClassifier\n",
    "from sklearn.metrics import accuracy_score\n",
    "\n",
    "sklearn.__version__"
   ]
  },
  {
   "cell_type": "code",
   "execution_count": 16,
   "metadata": {},
   "outputs": [
    {
     "name": "stdout",
     "output_type": "stream",
     "text": [
      "type :  <class 'sklearn.utils.Bunch'>\n",
      "keys :  dict_keys(['data', 'target', 'frame', 'target_names', 'DESCR', 'feature_names', 'filename'])\n"
     ]
    }
   ],
   "source": [
    "iris = load_iris()\n",
    "print('type : ', type(iris))\n",
    "print('keys : ', iris.keys())"
   ]
  },
  {
   "cell_type": "code",
   "execution_count": 17,
   "metadata": {
    "scrolled": true
   },
   "outputs": [
    {
     "name": "stdout",
     "output_type": "stream",
     "text": [
      "target :  [0 0 0 0 0 0 0 0 0 0 0 0 0 0 0 0 0 0 0 0 0 0 0 0 0 0 0 0 0 0 0 0 0 0 0 0 0\n",
      " 0 0 0 0 0 0 0 0 0 0 0 0 0 1 1 1 1 1 1 1 1 1 1 1 1 1 1 1 1 1 1 1 1 1 1 1 1\n",
      " 1 1 1 1 1 1 1 1 1 1 1 1 1 1 1 1 1 1 1 1 1 1 1 1 1 1 2 2 2 2 2 2 2 2 2 2 2\n",
      " 2 2 2 2 2 2 2 2 2 2 2 2 2 2 2 2 2 2 2 2 2 2 2 2 2 2 2 2 2 2 2 2 2 2 2 2 2\n",
      " 2 2]\n",
      "\n",
      "target name :  ['setosa' 'versicolor' 'virginica']\n",
      "\n",
      "feature name :  ['sepal length (cm)', 'sepal width (cm)', 'petal length (cm)', 'petal width (cm)']\n",
      "\n",
      "data :  [[5.1 3.5 1.4 0.2]\n",
      " [4.9 3.  1.4 0.2]\n",
      " [4.7 3.2 1.3 0.2]\n",
      " [4.6 3.1 1.5 0.2]\n",
      " [5.  3.6 1.4 0.2]\n",
      " [5.4 3.9 1.7 0.4]\n",
      " [4.6 3.4 1.4 0.3]\n",
      " [5.  3.4 1.5 0.2]\n",
      " [4.4 2.9 1.4 0.2]\n",
      " [4.9 3.1 1.5 0.1]\n",
      " [5.4 3.7 1.5 0.2]\n",
      " [4.8 3.4 1.6 0.2]\n",
      " [4.8 3.  1.4 0.1]\n",
      " [4.3 3.  1.1 0.1]\n",
      " [5.8 4.  1.2 0.2]\n",
      " [5.7 4.4 1.5 0.4]\n",
      " [5.4 3.9 1.3 0.4]\n",
      " [5.1 3.5 1.4 0.3]\n",
      " [5.7 3.8 1.7 0.3]\n",
      " [5.1 3.8 1.5 0.3]\n",
      " [5.4 3.4 1.7 0.2]\n",
      " [5.1 3.7 1.5 0.4]\n",
      " [4.6 3.6 1.  0.2]\n",
      " [5.1 3.3 1.7 0.5]\n",
      " [4.8 3.4 1.9 0.2]\n",
      " [5.  3.  1.6 0.2]\n",
      " [5.  3.4 1.6 0.4]\n",
      " [5.2 3.5 1.5 0.2]\n",
      " [5.2 3.4 1.4 0.2]\n",
      " [4.7 3.2 1.6 0.2]\n",
      " [4.8 3.1 1.6 0.2]\n",
      " [5.4 3.4 1.5 0.4]\n",
      " [5.2 4.1 1.5 0.1]\n",
      " [5.5 4.2 1.4 0.2]\n",
      " [4.9 3.1 1.5 0.2]\n",
      " [5.  3.2 1.2 0.2]\n",
      " [5.5 3.5 1.3 0.2]\n",
      " [4.9 3.6 1.4 0.1]\n",
      " [4.4 3.  1.3 0.2]\n",
      " [5.1 3.4 1.5 0.2]\n",
      " [5.  3.5 1.3 0.3]\n",
      " [4.5 2.3 1.3 0.3]\n",
      " [4.4 3.2 1.3 0.2]\n",
      " [5.  3.5 1.6 0.6]\n",
      " [5.1 3.8 1.9 0.4]\n",
      " [4.8 3.  1.4 0.3]\n",
      " [5.1 3.8 1.6 0.2]\n",
      " [4.6 3.2 1.4 0.2]\n",
      " [5.3 3.7 1.5 0.2]\n",
      " [5.  3.3 1.4 0.2]\n",
      " [7.  3.2 4.7 1.4]\n",
      " [6.4 3.2 4.5 1.5]\n",
      " [6.9 3.1 4.9 1.5]\n",
      " [5.5 2.3 4.  1.3]\n",
      " [6.5 2.8 4.6 1.5]\n",
      " [5.7 2.8 4.5 1.3]\n",
      " [6.3 3.3 4.7 1.6]\n",
      " [4.9 2.4 3.3 1. ]\n",
      " [6.6 2.9 4.6 1.3]\n",
      " [5.2 2.7 3.9 1.4]\n",
      " [5.  2.  3.5 1. ]\n",
      " [5.9 3.  4.2 1.5]\n",
      " [6.  2.2 4.  1. ]\n",
      " [6.1 2.9 4.7 1.4]\n",
      " [5.6 2.9 3.6 1.3]\n",
      " [6.7 3.1 4.4 1.4]\n",
      " [5.6 3.  4.5 1.5]\n",
      " [5.8 2.7 4.1 1. ]\n",
      " [6.2 2.2 4.5 1.5]\n",
      " [5.6 2.5 3.9 1.1]\n",
      " [5.9 3.2 4.8 1.8]\n",
      " [6.1 2.8 4.  1.3]\n",
      " [6.3 2.5 4.9 1.5]\n",
      " [6.1 2.8 4.7 1.2]\n",
      " [6.4 2.9 4.3 1.3]\n",
      " [6.6 3.  4.4 1.4]\n",
      " [6.8 2.8 4.8 1.4]\n",
      " [6.7 3.  5.  1.7]\n",
      " [6.  2.9 4.5 1.5]\n",
      " [5.7 2.6 3.5 1. ]\n",
      " [5.5 2.4 3.8 1.1]\n",
      " [5.5 2.4 3.7 1. ]\n",
      " [5.8 2.7 3.9 1.2]\n",
      " [6.  2.7 5.1 1.6]\n",
      " [5.4 3.  4.5 1.5]\n",
      " [6.  3.4 4.5 1.6]\n",
      " [6.7 3.1 4.7 1.5]\n",
      " [6.3 2.3 4.4 1.3]\n",
      " [5.6 3.  4.1 1.3]\n",
      " [5.5 2.5 4.  1.3]\n",
      " [5.5 2.6 4.4 1.2]\n",
      " [6.1 3.  4.6 1.4]\n",
      " [5.8 2.6 4.  1.2]\n",
      " [5.  2.3 3.3 1. ]\n",
      " [5.6 2.7 4.2 1.3]\n",
      " [5.7 3.  4.2 1.2]\n",
      " [5.7 2.9 4.2 1.3]\n",
      " [6.2 2.9 4.3 1.3]\n",
      " [5.1 2.5 3.  1.1]\n",
      " [5.7 2.8 4.1 1.3]\n",
      " [6.3 3.3 6.  2.5]\n",
      " [5.8 2.7 5.1 1.9]\n",
      " [7.1 3.  5.9 2.1]\n",
      " [6.3 2.9 5.6 1.8]\n",
      " [6.5 3.  5.8 2.2]\n",
      " [7.6 3.  6.6 2.1]\n",
      " [4.9 2.5 4.5 1.7]\n",
      " [7.3 2.9 6.3 1.8]\n",
      " [6.7 2.5 5.8 1.8]\n",
      " [7.2 3.6 6.1 2.5]\n",
      " [6.5 3.2 5.1 2. ]\n",
      " [6.4 2.7 5.3 1.9]\n",
      " [6.8 3.  5.5 2.1]\n",
      " [5.7 2.5 5.  2. ]\n",
      " [5.8 2.8 5.1 2.4]\n",
      " [6.4 3.2 5.3 2.3]\n",
      " [6.5 3.  5.5 1.8]\n",
      " [7.7 3.8 6.7 2.2]\n",
      " [7.7 2.6 6.9 2.3]\n",
      " [6.  2.2 5.  1.5]\n",
      " [6.9 3.2 5.7 2.3]\n",
      " [5.6 2.8 4.9 2. ]\n",
      " [7.7 2.8 6.7 2. ]\n",
      " [6.3 2.7 4.9 1.8]\n",
      " [6.7 3.3 5.7 2.1]\n",
      " [7.2 3.2 6.  1.8]\n",
      " [6.2 2.8 4.8 1.8]\n",
      " [6.1 3.  4.9 1.8]\n",
      " [6.4 2.8 5.6 2.1]\n",
      " [7.2 3.  5.8 1.6]\n",
      " [7.4 2.8 6.1 1.9]\n",
      " [7.9 3.8 6.4 2. ]\n",
      " [6.4 2.8 5.6 2.2]\n",
      " [6.3 2.8 5.1 1.5]\n",
      " [6.1 2.6 5.6 1.4]\n",
      " [7.7 3.  6.1 2.3]\n",
      " [6.3 3.4 5.6 2.4]\n",
      " [6.4 3.1 5.5 1.8]\n",
      " [6.  3.  4.8 1.8]\n",
      " [6.9 3.1 5.4 2.1]\n",
      " [6.7 3.1 5.6 2.4]\n",
      " [6.9 3.1 5.1 2.3]\n",
      " [5.8 2.7 5.1 1.9]\n",
      " [6.8 3.2 5.9 2.3]\n",
      " [6.7 3.3 5.7 2.5]\n",
      " [6.7 3.  5.2 2.3]\n",
      " [6.3 2.5 5.  1.9]\n",
      " [6.5 3.  5.2 2. ]\n",
      " [6.2 3.4 5.4 2.3]\n",
      " [5.9 3.  5.1 1.8]]\n"
     ]
    }
   ],
   "source": [
    "print('target : ', iris.target)\n",
    "print()\n",
    "print('target name : ', iris.target_names)\n",
    "print()\n",
    "print('feature name : ', iris.feature_names)\n",
    "print()\n",
    "print('data : ', iris.data)"
   ]
  },
  {
   "cell_type": "code",
   "execution_count": null,
   "metadata": {},
   "outputs": [],
   "source": []
  },
  {
   "cell_type": "code",
   "execution_count": null,
   "metadata": {},
   "outputs": [],
   "source": []
  },
  {
   "cell_type": "markdown",
   "metadata": {},
   "source": [
    "**Supervised Learning - classification**"
   ]
  },
  {
   "cell_type": "code",
   "execution_count": null,
   "metadata": {},
   "outputs": [],
   "source": []
  },
  {
   "cell_type": "code",
   "execution_count": null,
   "metadata": {},
   "outputs": [],
   "source": []
  },
  {
   "cell_type": "code",
   "execution_count": null,
   "metadata": {},
   "outputs": [],
   "source": []
  },
  {
   "cell_type": "markdown",
   "metadata": {},
   "source": [
    "#### 교차검증(Cross Validation)\n",
    "- 과적합(overfitting)을 방지하기 위한 방법\n",
    "- 데이터의 편중을 막기 위함\n",
    "- KFold 방식"
   ]
  },
  {
   "cell_type": "code",
   "execution_count": 45,
   "metadata": {},
   "outputs": [],
   "source": [
    "fold_iris = load_iris()\n",
    "\n",
    "features = fold_iris.data\n",
    "label = fold_iris.target\n",
    "\n",
    "fold_dt_clf = DecisionTreeClassifier(random_state = 100)"
   ]
  },
  {
   "cell_type": "code",
   "execution_count": 46,
   "metadata": {},
   "outputs": [
    {
     "name": "stdout",
     "output_type": "stream",
     "text": [
      "5개의 폴드 세트를 분리하여 각 폴드 세트별 정확도를 담기\n"
     ]
    }
   ],
   "source": [
    "print('5개의 폴드 세트를 분리하여 각 폴드 세트별 정확도를 담기')\n",
    "cv_accuracy = []\n",
    "kfold = KFold(n_splits = 5)"
   ]
  },
  {
   "cell_type": "code",
   "execution_count": 47,
   "metadata": {},
   "outputs": [
    {
     "name": "stdout",
     "output_type": "stream",
     "text": [
      "1 교차검증 정확도 : 1.0, 학습 데이터 크기 : 120, 검증 데이터 크기 : 30\n",
      "\n",
      "2 교차검증 정확도 : 0.9666666666666667, 학습 데이터 크기 : 120, 검증 데이터 크기 : 30\n",
      "\n",
      "3 교차검증 정확도 : 0.9, 학습 데이터 크기 : 120, 검증 데이터 크기 : 30\n",
      "\n",
      "4 교차검증 정확도 : 0.9333333333333333, 학습 데이터 크기 : 120, 검증 데이터 크기 : 30\n",
      "\n",
      "5 교차검증 정확도 : 0.7333333333333333, 학습 데이터 크기 : 120, 검증 데이터 크기 : 30\n",
      "\n",
      "교차검증 평균 정확도 :  0.9066666666666666\n"
     ]
    }
   ],
   "source": [
    "n_iter = 0\n",
    "\n",
    "for train_idx, test_idx in kfold.split(features) : \n",
    "    X_train, X_val = features[train_idx], features[test_idx]\n",
    "    y_train, y_val = label[train_idx], label[test_idx]\n",
    "    \n",
    "    # 학습과 예측\n",
    "    fold_dt_clf.fit(X_train, y_train)\n",
    "    fold_pred = fold_dt_clf.predict(X_val)\n",
    "    \n",
    "    n_iter += 1\n",
    "    \n",
    "    # 학습데이터에 대한 검증 정확도 측정\n",
    "    acc = accuracy_score(y_val, fold_pred)\n",
    "    print('{} 교차검증 정확도 : {}, 학습 데이터 크기 : {}, 검증 데이터 크기 : {}'.format(n_iter, acc, X_train.shape[0], X_val.shape[0]))\n",
    "    print()\n",
    "    cv_accuracy.append(acc)\n",
    "    \n",
    "print('교차검증 평균 정확도 : ', np.mean(cv_accuracy))"
   ]
  },
  {
   "cell_type": "markdown",
   "metadata": {},
   "source": [
    "- 불균형한 분포도를 가진 레이블 데이터 집합을 위한 KFold 방식 : Stratified KFold\n",
    "- 레이블의 분포를 먼저 고려한 뒤 이 분포와 동일하게 학습, 검증 데이터 세트로 분할"
   ]
  },
  {
   "cell_type": "code",
   "execution_count": 24,
   "metadata": {},
   "outputs": [
    {
     "name": "stdout",
     "output_type": "stream",
     "text": [
      "기존 KFold 방식의 문제점을 확인 - \n",
      "\n",
      "value counts - \n",
      "2    50\n",
      "1    50\n",
      "0    50\n",
      "Name: target, dtype: int64\n"
     ]
    }
   ],
   "source": [
    "print('기존 KFold 방식의 문제점을 확인 - ')\n",
    "print()\n",
    "\n",
    "fold_iris_frm = pd.DataFrame(data = fold_iris.data,\n",
    "                            columns = fold_iris.feature_names)\n",
    "fold_iris_frm['target'] = fold_iris.target\n",
    "\n",
    "print('value counts - ')\n",
    "print(fold_iris_frm['target'].value_counts())"
   ]
  },
  {
   "cell_type": "code",
   "execution_count": 33,
   "metadata": {},
   "outputs": [
    {
     "name": "stdout",
     "output_type": "stream",
     "text": [
      "교차검증 횟수 :  1\n",
      "학습 레이블 데이터 분포 : \n",
      " 2    50\n",
      "1    50\n",
      "Name: target, dtype: int64\n",
      "검증 레이블 데이터 분포 : \n",
      " 0    50\n",
      "Name: target, dtype: int64\n",
      "\n",
      "교차검증 횟수 :  2\n",
      "학습 레이블 데이터 분포 : \n",
      " 2    50\n",
      "0    50\n",
      "Name: target, dtype: int64\n",
      "검증 레이블 데이터 분포 : \n",
      " 1    50\n",
      "Name: target, dtype: int64\n",
      "\n",
      "교차검증 횟수 :  3\n",
      "학습 레이블 데이터 분포 : \n",
      " 1    50\n",
      "0    50\n",
      "Name: target, dtype: int64\n",
      "검증 레이블 데이터 분포 : \n",
      " 2    50\n",
      "Name: target, dtype: int64\n",
      "\n"
     ]
    }
   ],
   "source": [
    "bad_fold_iris = KFold(n_splits = 3)\n",
    "n_iter = 0\n",
    "\n",
    "for train_idx, test_idx in bad_fold_iris.split(fold_iris_frm) : \n",
    "    # print(train_idx, test_idx) # (데이터가 붓꽃 종별로 몰려 있음을 확인할 수 있다.)\n",
    "    n_iter += 1\n",
    "    label_train = fold_iris_frm['target'].iloc[train_idx]\n",
    "    label_val = fold_iris_frm['target'].iloc[test_idx]\n",
    "    print('교차검증 횟수 : ', n_iter)\n",
    "    print('학습 레이블 데이터 분포 : \\n', label_train.value_counts())\n",
    "    print('검증 레이블 데이터 분포 : \\n', label_val.value_counts())\n",
    "    print()"
   ]
  },
  {
   "cell_type": "markdown",
   "metadata": {},
   "source": [
    "- Stratified KFold를 사용하면 ?"
   ]
  },
  {
   "cell_type": "code",
   "execution_count": 36,
   "metadata": {},
   "outputs": [
    {
     "name": "stdout",
     "output_type": "stream",
     "text": [
      "교차검증 횟수 :  1\n",
      "학습 레이블 데이터 분포 : \n",
      " 2    34\n",
      "1    33\n",
      "0    33\n",
      "Name: target, dtype: int64\n",
      "검증 레이블 데이터 분포 : \n",
      " 1    17\n",
      "0    17\n",
      "2    16\n",
      "Name: target, dtype: int64\n",
      "\n",
      "교차검증 횟수 :  2\n",
      "학습 레이블 데이터 분포 : \n",
      " 1    34\n",
      "2    33\n",
      "0    33\n",
      "Name: target, dtype: int64\n",
      "검증 레이블 데이터 분포 : \n",
      " 2    17\n",
      "0    17\n",
      "1    16\n",
      "Name: target, dtype: int64\n",
      "\n",
      "교차검증 횟수 :  3\n",
      "학습 레이블 데이터 분포 : \n",
      " 0    34\n",
      "2    33\n",
      "1    33\n",
      "Name: target, dtype: int64\n",
      "검증 레이블 데이터 분포 : \n",
      " 2    17\n",
      "1    17\n",
      "0    16\n",
      "Name: target, dtype: int64\n",
      "\n"
     ]
    }
   ],
   "source": [
    "skf = StratifiedKFold(n_splits = 3)\n",
    "n_iter = 0\n",
    "\n",
    "for train_idx, test_idx in skf.split(fold_iris_frm, fold_iris_frm['target']) : # target 인자를 추가해야 함 \n",
    "    n_iter += 1\n",
    "    label_train = fold_iris_frm['target'].iloc[train_idx]\n",
    "    label_val = fold_iris_frm['target'].iloc[test_idx]\n",
    "    print('교차검증 횟수 : ', n_iter)\n",
    "    print('학습 레이블 데이터 분포 : \\n', label_train.value_counts())\n",
    "    print('검증 레이블 데이터 분포 : \\n', label_val.value_counts())\n",
    "    print()"
   ]
  },
  {
   "cell_type": "markdown",
   "metadata": {},
   "source": [
    "#### iris 데이터를 이용한 StratifiedKFold 교차검증 실습\n",
    "- random_state = 100\n",
    "- StratifiedKFold 교차검증을 (3, 5) 진행 후 평균 정확도를 확인\n",
    "- 회귀 X, 분류 O\n",
    "- 회귀에서 지원되지 않는 이유는 회귀는 연속된 숫자 값이기 때문"
   ]
  },
  {
   "cell_type": "code",
   "execution_count": 59,
   "metadata": {},
   "outputs": [
    {
     "name": "stdout",
     "output_type": "stream",
     "text": [
      "1 교차검증 정확도 : 0.9666666666666667, 학습 데이터 크기 : 120, 검증 데이터 크기 : 30\n",
      "\n",
      "2 교차검증 정확도 : 0.9666666666666667, 학습 데이터 크기 : 120, 검증 데이터 크기 : 30\n",
      "\n",
      "3 교차검증 정확도 : 0.9, 학습 데이터 크기 : 120, 검증 데이터 크기 : 30\n",
      "\n",
      "4 교차검증 정확도 : 0.9333333333333333, 학습 데이터 크기 : 120, 검증 데이터 크기 : 30\n",
      "\n",
      "5 교차검증 정확도 : 1.0, 학습 데이터 크기 : 120, 검증 데이터 크기 : 30\n",
      "\n",
      "교차검증 평균 정확도 :  0.9533333333333334\n"
     ]
    }
   ],
   "source": [
    "fold_iris = load_iris()\n",
    "\n",
    "features = fold_iris.data\n",
    "labels = fold_iris.target\n",
    "\n",
    "fold_dt_clf = DecisionTreeClassifier(random_state = 100)\n",
    "skf = StratifiedKFold(n_splits = 5)\n",
    "n_iter = 0\n",
    "cv_accuracy = []\n",
    "\n",
    "for train_idx, test_idx in skf.split(features, labels) : \n",
    "    X_train, X_val = features[train_idx], features[test_idx]\n",
    "    y_train, y_val = labels[train_idx], labels[test_idx]\n",
    "    \n",
    "    # 학습과 예측\n",
    "    fold_dt_clf.fit(X_train, y_train)\n",
    "    fold_pred = fold_dt_clf.predict(X_val)\n",
    "    \n",
    "    n_iter += 1\n",
    "    \n",
    "    # 학습데이터에 대한 검증 정확도 측정\n",
    "    acc = accuracy_score(y_val, fold_pred)\n",
    "    print('{} 교차검증 정확도 : {}, 학습 데이터 크기 : {}, 검증 데이터 크기 : {}'.format(n_iter, acc, X_train.shape[0], X_val.shape[0]))\n",
    "    print()\n",
    "    cv_accuracy.append(acc)\n",
    "    \n",
    "print('교차검증 평균 정확도 : ', np.mean(cv_accuracy))"
   ]
  },
  {
   "cell_type": "markdown",
   "metadata": {},
   "source": [
    "- cross_val_score(예측모델(분류/회귀), 피처세트, 레이블, 성능평가지표, fold 수) : 위 과정을 한 번에 수행\n",
    "- fold 설정 -> 반복을 통해서 학습 및 테스트의 인덱스 추출 -> 학습과 예측"
   ]
  },
  {
   "cell_type": "code",
   "execution_count": 77,
   "metadata": {},
   "outputs": [
    {
     "name": "stdout",
     "output_type": "stream",
     "text": [
      "1. cross_val_score type :  <class 'numpy.ndarray'>\n",
      "2. fold 정확도(=scores):  [0.96666667 0.96666667 0.9        0.93333333 1.        ] \n",
      "3. 평균 정확도 :  0.9533333333333334\n",
      "\n",
      "\n",
      "1. cross_validate type :  <class 'dict'>\n",
      "2. cross_validate : \n",
      " {'fit_time': array([0.00199842, 0.00264788, 0.00191379, 0.00324225, 0.00230145]), 'score_time': array([0.00100398, 0.0010941 , 0.        , 0.00100064, 0.00093794]), 'test_score': array([0.96666667, 0.96666667, 0.9       , 0.93333333, 1.        ])}\n",
      "3. fold 정확도 :  [0.96666667 0.96666667 0.9        0.93333333 1.        ] \n",
      "4. 평균 정확도 :  0.9533333333333334\n"
     ]
    }
   ],
   "source": [
    "fold_iris = load_iris()\n",
    "\n",
    "features = fold_iris.data\n",
    "labels = fold_iris.target\n",
    "\n",
    "fold_dt_clf = DecisionTreeClassifier(random_state = 100)\n",
    "\n",
    "# 성능평가지표 : accuracy, 교차검증 5회 수행\n",
    "scores = cross_val_score(fold_dt_clf, features, labels, scoring = 'accuracy', cv = 5)\n",
    "print('1. cross_val_score type : ', type(scores))\n",
    "print('2. fold 정확도(=scores): ', scores,'\\n3. 평균 정확도 : ', scores.mean())\n",
    "print()\n",
    "print()\n",
    "scores = cross_validate(fold_dt_clf, features, labels, scoring = 'accuracy', cv = 5)\n",
    "print('1. cross_validate type : ', type(scores))\n",
    "print('2. cross_validate : \\n', scores)\n",
    "print('3. fold 정확도 : ', scores['test_score'], '\\n4. 평균 정확도 : ', scores['test_score'].mean())"
   ]
  },
  {
   "cell_type": "code",
   "execution_count": null,
   "metadata": {},
   "outputs": [],
   "source": []
  }
 ],
 "metadata": {
  "kernelspec": {
   "display_name": "Python 3",
   "language": "python",
   "name": "python3"
  },
  "language_info": {
   "codemirror_mode": {
    "name": "ipython",
    "version": 3
   },
   "file_extension": ".py",
   "mimetype": "text/x-python",
   "name": "python",
   "nbconvert_exporter": "python",
   "pygments_lexer": "ipython3",
   "version": "3.8.5"
  }
 },
 "nbformat": 4,
 "nbformat_minor": 4
}
